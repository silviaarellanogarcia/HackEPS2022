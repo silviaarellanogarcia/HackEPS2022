{
  "cells": [
    {
      "cell_type": "markdown",
      "metadata": {
        "id": "view-in-github",
        "colab_type": "text"
      },
      "source": [
        "<a href=\"https://colab.research.google.com/github/silviaarellanogarcia/HackEPS2022/blob/main/missi%C3%B3_lila.ipynb\" target=\"_parent\"><img src=\"https://colab.research.google.com/assets/colab-badge.svg\" alt=\"Open In Colab\"/></a>"
      ]
    },
    {
      "cell_type": "markdown",
      "source": [
        "# 💜 MISSIÓ LILA 💜"
      ],
      "metadata": {
        "id": "M61lEDLE-PKj"
      }
    },
    {
      "cell_type": "markdown",
      "metadata": {
        "id": "5wmrPRpEpqSF"
      },
      "source": [
        "## Objectius \n",
        "\n",
        "Volem que implementeu un model o algoritme que permeti classificar del dataset A2 si aquella imatge hi ha error o no. Ens agradaria que mostressiu alguna gràfica de l'entrenament del model (en cas de fer ML) o mètriques qualitatives ( accuracy, recall, f1...) i quantitatives (matrius de confusió, ROC curve...)."
      ]
    },
    {
      "cell_type": "markdown",
      "source": [
        "# Setup\n",
        "\n",
        "Install libraries"
      ],
      "metadata": {
        "id": "vihwQGNRqY1z"
      }
    },
    {
      "cell_type": "code",
      "execution_count": null,
      "metadata": {
        "id": "9ex2tFaMpirc"
      },
      "outputs": [],
      "source": [
        "import pandas as pd\n",
        "import numpy as np\n",
        "import tensorflow as tf\n",
        "import matplotlib.pyplot as plt"
      ]
    },
    {
      "cell_type": "markdown",
      "source": [
        "Mount drive volume into google colab"
      ],
      "metadata": {
        "id": "GXrygoP8qejs"
      }
    },
    {
      "cell_type": "code",
      "execution_count": null,
      "metadata": {
        "colab": {
          "base_uri": "https://localhost:8080/"
        },
        "id": "tW8QkKKEeepN",
        "outputId": "4696cdd1-bf18-4cfa-9cc6-dcce0c838961"
      },
      "outputs": [
        {
          "output_type": "stream",
          "name": "stdout",
          "text": [
            "Mounted at /content/gdrive\n"
          ]
        }
      ],
      "source": [
        "from google.colab import drive\n",
        "drive.mount('/content/gdrive')"
      ]
    },
    {
      "cell_type": "markdown",
      "metadata": {
        "id": "e2_1p2qfeh2l"
      },
      "source": [
        "## Extreure les dades"
      ]
    },
    {
      "cell_type": "markdown",
      "source": [
        "Unziped all images and information to our drive"
      ],
      "metadata": {
        "id": "wahbibcQqtmj"
      }
    },
    {
      "cell_type": "code",
      "execution_count": null,
      "metadata": {
        "id": "qWQyOcq0ehLC"
      },
      "outputs": [],
      "source": [
        "#!unzip \"gdrive/MyDrive/HackEPS2022/data/A1.zip\" -d \"gdrive/MyDrive/HackEPS2022/data/lila\""
      ]
    },
    {
      "cell_type": "markdown",
      "source": [
        "Loading all information into a dataframe"
      ],
      "metadata": {
        "id": "s314_VJfq4yV"
      }
    },
    {
      "cell_type": "code",
      "execution_count": null,
      "metadata": {
        "colab": {
          "base_uri": "https://localhost:8080/"
        },
        "id": "t6HD7V94fDPv",
        "outputId": "48268ba9-8182-48f2-d5dd-2e1fd02c807d"
      },
      "outputs": [
        {
          "output_type": "execute_result",
          "data": {
            "text/plain": [
              "(3211, 7)"
            ]
          },
          "metadata": {},
          "execution_count": 3
        }
      ],
      "source": [
        "train_df = pd.read_csv(\"gdrive/MyDrive/HackEPS2022/groc.csv\")\n",
        "train_df.shape"
      ]
    },
    {
      "cell_type": "markdown",
      "metadata": {
        "id": "1LPIsgU_gEp9"
      },
      "source": [
        "##Preprocessing"
      ]
    },
    {
      "cell_type": "code",
      "execution_count": null,
      "metadata": {
        "colab": {
          "base_uri": "https://localhost:8080/"
        },
        "id": "ooOYENLIgDOb",
        "outputId": "e7ae08aa-f4ad-43ac-cf90-e34f66050149"
      },
      "outputs": [
        {
          "output_type": "stream",
          "name": "stdout",
          "text": [
            "<class 'pandas.core.frame.DataFrame'>\n",
            "RangeIndex: 3211 entries, 0 to 3210\n",
            "Data columns (total 7 columns):\n",
            " #   Column      Non-Null Count  Dtype \n",
            "---  ------      --------------  ----- \n",
            " 0   Unnamed: 0  3211 non-null   int64 \n",
            " 1   c           3211 non-null   object\n",
            " 2   r           3211 non-null   object\n",
            " 3   e           3211 non-null   object\n",
            " 4   name        3211 non-null   object\n",
            " 5   path        3211 non-null   object\n",
            " 6   tipus       3211 non-null   object\n",
            "dtypes: int64(1), object(6)\n",
            "memory usage: 175.7+ KB\n"
          ]
        }
      ],
      "source": [
        "train_df.info()"
      ]
    },
    {
      "cell_type": "code",
      "execution_count": null,
      "metadata": {
        "colab": {
          "base_uri": "https://localhost:8080/",
          "height": 520
        },
        "id": "POYqQ2vNgJtQ",
        "outputId": "bb369711-3d19-4ad5-a801-860352f7c994"
      },
      "outputs": [
        {
          "output_type": "execute_result",
          "data": {
            "text/plain": [
              "    Unnamed: 0   c   r   e       name  \\\n",
              "0            0  c3  r1  e3  c3r1e3n12   \n",
              "1            1  c3  r1  e3  c3r1e3n28   \n",
              "2            2  c3  r1  e3  c3r1e3n25   \n",
              "3            3  c3  r1  e3  c3r1e3n11   \n",
              "4            4  c3  r1  e3  c3r1e3n47   \n",
              "5            5  c3  r1  e3  c3r1e3n43   \n",
              "6            6  c3  r1  e3   c3r1e3n5   \n",
              "7            7  c3  r1  e3  c3r1e3n44   \n",
              "8            8  c3  r1  e3  c3r1e3n30   \n",
              "9            9  c3  r1  e3  c3r1e3n41   \n",
              "10          10  c3  r1  e3  c3r1e3n39   \n",
              "11          11  c3  r1  e3  c3r1e3n40   \n",
              "12          12  c3  r1  e3  c3r1e3n13   \n",
              "13          13  c3  r1  e3  c3r1e3n22   \n",
              "14          14  c3  r1  e3  c3r1e3n17   \n",
              "\n",
              "                                             path         tipus  \n",
              "0   badata/cd1/data/c3/r1/images/e3/c3r1e3n12.tif  Quart teixit  \n",
              "1   badata/cd1/data/c3/r1/images/e3/c3r1e3n28.tif  Quart teixit  \n",
              "2   badata/cd1/data/c3/r1/images/e3/c3r1e3n25.tif  Quart teixit  \n",
              "3   badata/cd1/data/c3/r1/images/e3/c3r1e3n11.tif  Quart teixit  \n",
              "4   badata/cd1/data/c3/r1/images/e3/c3r1e3n47.tif  Quart teixit  \n",
              "5   badata/cd1/data/c3/r1/images/e3/c3r1e3n43.tif  Quart teixit  \n",
              "6    badata/cd1/data/c3/r1/images/e3/c3r1e3n5.tif  Quart teixit  \n",
              "7   badata/cd1/data/c3/r1/images/e3/c3r1e3n44.tif  Quart teixit  \n",
              "8   badata/cd1/data/c3/r1/images/e3/c3r1e3n30.tif  Quart teixit  \n",
              "9   badata/cd1/data/c3/r1/images/e3/c3r1e3n41.tif  Quart teixit  \n",
              "10  badata/cd1/data/c3/r1/images/e3/c3r1e3n39.tif  Quart teixit  \n",
              "11  badata/cd1/data/c3/r1/images/e3/c3r1e3n40.tif  Quart teixit  \n",
              "12  badata/cd1/data/c3/r1/images/e3/c3r1e3n13.tif  Quart teixit  \n",
              "13  badata/cd1/data/c3/r1/images/e3/c3r1e3n22.tif  Quart teixit  \n",
              "14  badata/cd1/data/c3/r1/images/e3/c3r1e3n17.tif  Quart teixit  "
            ],
            "text/html": [
              "\n",
              "  <div id=\"df-abaaa23c-08e3-4596-8692-02de7abfb3af\">\n",
              "    <div class=\"colab-df-container\">\n",
              "      <div>\n",
              "<style scoped>\n",
              "    .dataframe tbody tr th:only-of-type {\n",
              "        vertical-align: middle;\n",
              "    }\n",
              "\n",
              "    .dataframe tbody tr th {\n",
              "        vertical-align: top;\n",
              "    }\n",
              "\n",
              "    .dataframe thead th {\n",
              "        text-align: right;\n",
              "    }\n",
              "</style>\n",
              "<table border=\"1\" class=\"dataframe\">\n",
              "  <thead>\n",
              "    <tr style=\"text-align: right;\">\n",
              "      <th></th>\n",
              "      <th>Unnamed: 0</th>\n",
              "      <th>c</th>\n",
              "      <th>r</th>\n",
              "      <th>e</th>\n",
              "      <th>name</th>\n",
              "      <th>path</th>\n",
              "      <th>tipus</th>\n",
              "    </tr>\n",
              "  </thead>\n",
              "  <tbody>\n",
              "    <tr>\n",
              "      <th>0</th>\n",
              "      <td>0</td>\n",
              "      <td>c3</td>\n",
              "      <td>r1</td>\n",
              "      <td>e3</td>\n",
              "      <td>c3r1e3n12</td>\n",
              "      <td>badata/cd1/data/c3/r1/images/e3/c3r1e3n12.tif</td>\n",
              "      <td>Quart teixit</td>\n",
              "    </tr>\n",
              "    <tr>\n",
              "      <th>1</th>\n",
              "      <td>1</td>\n",
              "      <td>c3</td>\n",
              "      <td>r1</td>\n",
              "      <td>e3</td>\n",
              "      <td>c3r1e3n28</td>\n",
              "      <td>badata/cd1/data/c3/r1/images/e3/c3r1e3n28.tif</td>\n",
              "      <td>Quart teixit</td>\n",
              "    </tr>\n",
              "    <tr>\n",
              "      <th>2</th>\n",
              "      <td>2</td>\n",
              "      <td>c3</td>\n",
              "      <td>r1</td>\n",
              "      <td>e3</td>\n",
              "      <td>c3r1e3n25</td>\n",
              "      <td>badata/cd1/data/c3/r1/images/e3/c3r1e3n25.tif</td>\n",
              "      <td>Quart teixit</td>\n",
              "    </tr>\n",
              "    <tr>\n",
              "      <th>3</th>\n",
              "      <td>3</td>\n",
              "      <td>c3</td>\n",
              "      <td>r1</td>\n",
              "      <td>e3</td>\n",
              "      <td>c3r1e3n11</td>\n",
              "      <td>badata/cd1/data/c3/r1/images/e3/c3r1e3n11.tif</td>\n",
              "      <td>Quart teixit</td>\n",
              "    </tr>\n",
              "    <tr>\n",
              "      <th>4</th>\n",
              "      <td>4</td>\n",
              "      <td>c3</td>\n",
              "      <td>r1</td>\n",
              "      <td>e3</td>\n",
              "      <td>c3r1e3n47</td>\n",
              "      <td>badata/cd1/data/c3/r1/images/e3/c3r1e3n47.tif</td>\n",
              "      <td>Quart teixit</td>\n",
              "    </tr>\n",
              "    <tr>\n",
              "      <th>5</th>\n",
              "      <td>5</td>\n",
              "      <td>c3</td>\n",
              "      <td>r1</td>\n",
              "      <td>e3</td>\n",
              "      <td>c3r1e3n43</td>\n",
              "      <td>badata/cd1/data/c3/r1/images/e3/c3r1e3n43.tif</td>\n",
              "      <td>Quart teixit</td>\n",
              "    </tr>\n",
              "    <tr>\n",
              "      <th>6</th>\n",
              "      <td>6</td>\n",
              "      <td>c3</td>\n",
              "      <td>r1</td>\n",
              "      <td>e3</td>\n",
              "      <td>c3r1e3n5</td>\n",
              "      <td>badata/cd1/data/c3/r1/images/e3/c3r1e3n5.tif</td>\n",
              "      <td>Quart teixit</td>\n",
              "    </tr>\n",
              "    <tr>\n",
              "      <th>7</th>\n",
              "      <td>7</td>\n",
              "      <td>c3</td>\n",
              "      <td>r1</td>\n",
              "      <td>e3</td>\n",
              "      <td>c3r1e3n44</td>\n",
              "      <td>badata/cd1/data/c3/r1/images/e3/c3r1e3n44.tif</td>\n",
              "      <td>Quart teixit</td>\n",
              "    </tr>\n",
              "    <tr>\n",
              "      <th>8</th>\n",
              "      <td>8</td>\n",
              "      <td>c3</td>\n",
              "      <td>r1</td>\n",
              "      <td>e3</td>\n",
              "      <td>c3r1e3n30</td>\n",
              "      <td>badata/cd1/data/c3/r1/images/e3/c3r1e3n30.tif</td>\n",
              "      <td>Quart teixit</td>\n",
              "    </tr>\n",
              "    <tr>\n",
              "      <th>9</th>\n",
              "      <td>9</td>\n",
              "      <td>c3</td>\n",
              "      <td>r1</td>\n",
              "      <td>e3</td>\n",
              "      <td>c3r1e3n41</td>\n",
              "      <td>badata/cd1/data/c3/r1/images/e3/c3r1e3n41.tif</td>\n",
              "      <td>Quart teixit</td>\n",
              "    </tr>\n",
              "    <tr>\n",
              "      <th>10</th>\n",
              "      <td>10</td>\n",
              "      <td>c3</td>\n",
              "      <td>r1</td>\n",
              "      <td>e3</td>\n",
              "      <td>c3r1e3n39</td>\n",
              "      <td>badata/cd1/data/c3/r1/images/e3/c3r1e3n39.tif</td>\n",
              "      <td>Quart teixit</td>\n",
              "    </tr>\n",
              "    <tr>\n",
              "      <th>11</th>\n",
              "      <td>11</td>\n",
              "      <td>c3</td>\n",
              "      <td>r1</td>\n",
              "      <td>e3</td>\n",
              "      <td>c3r1e3n40</td>\n",
              "      <td>badata/cd1/data/c3/r1/images/e3/c3r1e3n40.tif</td>\n",
              "      <td>Quart teixit</td>\n",
              "    </tr>\n",
              "    <tr>\n",
              "      <th>12</th>\n",
              "      <td>12</td>\n",
              "      <td>c3</td>\n",
              "      <td>r1</td>\n",
              "      <td>e3</td>\n",
              "      <td>c3r1e3n13</td>\n",
              "      <td>badata/cd1/data/c3/r1/images/e3/c3r1e3n13.tif</td>\n",
              "      <td>Quart teixit</td>\n",
              "    </tr>\n",
              "    <tr>\n",
              "      <th>13</th>\n",
              "      <td>13</td>\n",
              "      <td>c3</td>\n",
              "      <td>r1</td>\n",
              "      <td>e3</td>\n",
              "      <td>c3r1e3n22</td>\n",
              "      <td>badata/cd1/data/c3/r1/images/e3/c3r1e3n22.tif</td>\n",
              "      <td>Quart teixit</td>\n",
              "    </tr>\n",
              "    <tr>\n",
              "      <th>14</th>\n",
              "      <td>14</td>\n",
              "      <td>c3</td>\n",
              "      <td>r1</td>\n",
              "      <td>e3</td>\n",
              "      <td>c3r1e3n17</td>\n",
              "      <td>badata/cd1/data/c3/r1/images/e3/c3r1e3n17.tif</td>\n",
              "      <td>Quart teixit</td>\n",
              "    </tr>\n",
              "  </tbody>\n",
              "</table>\n",
              "</div>\n",
              "      <button class=\"colab-df-convert\" onclick=\"convertToInteractive('df-abaaa23c-08e3-4596-8692-02de7abfb3af')\"\n",
              "              title=\"Convert this dataframe to an interactive table.\"\n",
              "              style=\"display:none;\">\n",
              "        \n",
              "  <svg xmlns=\"http://www.w3.org/2000/svg\" height=\"24px\"viewBox=\"0 0 24 24\"\n",
              "       width=\"24px\">\n",
              "    <path d=\"M0 0h24v24H0V0z\" fill=\"none\"/>\n",
              "    <path d=\"M18.56 5.44l.94 2.06.94-2.06 2.06-.94-2.06-.94-.94-2.06-.94 2.06-2.06.94zm-11 1L8.5 8.5l.94-2.06 2.06-.94-2.06-.94L8.5 2.5l-.94 2.06-2.06.94zm10 10l.94 2.06.94-2.06 2.06-.94-2.06-.94-.94-2.06-.94 2.06-2.06.94z\"/><path d=\"M17.41 7.96l-1.37-1.37c-.4-.4-.92-.59-1.43-.59-.52 0-1.04.2-1.43.59L10.3 9.45l-7.72 7.72c-.78.78-.78 2.05 0 2.83L4 21.41c.39.39.9.59 1.41.59.51 0 1.02-.2 1.41-.59l7.78-7.78 2.81-2.81c.8-.78.8-2.07 0-2.86zM5.41 20L4 18.59l7.72-7.72 1.47 1.35L5.41 20z\"/>\n",
              "  </svg>\n",
              "      </button>\n",
              "      \n",
              "  <style>\n",
              "    .colab-df-container {\n",
              "      display:flex;\n",
              "      flex-wrap:wrap;\n",
              "      gap: 12px;\n",
              "    }\n",
              "\n",
              "    .colab-df-convert {\n",
              "      background-color: #E8F0FE;\n",
              "      border: none;\n",
              "      border-radius: 50%;\n",
              "      cursor: pointer;\n",
              "      display: none;\n",
              "      fill: #1967D2;\n",
              "      height: 32px;\n",
              "      padding: 0 0 0 0;\n",
              "      width: 32px;\n",
              "    }\n",
              "\n",
              "    .colab-df-convert:hover {\n",
              "      background-color: #E2EBFA;\n",
              "      box-shadow: 0px 1px 2px rgba(60, 64, 67, 0.3), 0px 1px 3px 1px rgba(60, 64, 67, 0.15);\n",
              "      fill: #174EA6;\n",
              "    }\n",
              "\n",
              "    [theme=dark] .colab-df-convert {\n",
              "      background-color: #3B4455;\n",
              "      fill: #D2E3FC;\n",
              "    }\n",
              "\n",
              "    [theme=dark] .colab-df-convert:hover {\n",
              "      background-color: #434B5C;\n",
              "      box-shadow: 0px 1px 3px 1px rgba(0, 0, 0, 0.15);\n",
              "      filter: drop-shadow(0px 1px 2px rgba(0, 0, 0, 0.3));\n",
              "      fill: #FFFFFF;\n",
              "    }\n",
              "  </style>\n",
              "\n",
              "      <script>\n",
              "        const buttonEl =\n",
              "          document.querySelector('#df-abaaa23c-08e3-4596-8692-02de7abfb3af button.colab-df-convert');\n",
              "        buttonEl.style.display =\n",
              "          google.colab.kernel.accessAllowed ? 'block' : 'none';\n",
              "\n",
              "        async function convertToInteractive(key) {\n",
              "          const element = document.querySelector('#df-abaaa23c-08e3-4596-8692-02de7abfb3af');\n",
              "          const dataTable =\n",
              "            await google.colab.kernel.invokeFunction('convertToInteractive',\n",
              "                                                     [key], {});\n",
              "          if (!dataTable) return;\n",
              "\n",
              "          const docLinkHtml = 'Like what you see? Visit the ' +\n",
              "            '<a target=\"_blank\" href=https://colab.research.google.com/notebooks/data_table.ipynb>data table notebook</a>'\n",
              "            + ' to learn more about interactive tables.';\n",
              "          element.innerHTML = '';\n",
              "          dataTable['output_type'] = 'display_data';\n",
              "          await google.colab.output.renderOutput(dataTable, element);\n",
              "          const docLink = document.createElement('div');\n",
              "          docLink.innerHTML = docLinkHtml;\n",
              "          element.appendChild(docLink);\n",
              "        }\n",
              "      </script>\n",
              "    </div>\n",
              "  </div>\n",
              "  "
            ]
          },
          "metadata": {},
          "execution_count": 5
        }
      ],
      "source": [
        "train_df.head(15)"
      ]
    },
    {
      "cell_type": "markdown",
      "source": [
        "Translating the string into id types"
      ],
      "metadata": {
        "id": "7RYWRscKrJJU"
      }
    },
    {
      "cell_type": "code",
      "execution_count": null,
      "metadata": {
        "id": "Gdb4R46Qgp2I"
      },
      "outputs": [],
      "source": [
        "translator = {\"Estampado\": 0, \"Primer teixit\": 1, \"Segon teixit\": 2, \"Tercer teixit\": 3, \"Quart teixit\": 4, \"Cinqué teixit\": 5}\n",
        "train_df[\"tipus\"] = train_df.tipus.map(lambda row_tipus: translator.get(row_tipus))"
      ]
    },
    {
      "cell_type": "markdown",
      "source": [
        "Getting rid of the unnecessary data, we only want path and the type id"
      ],
      "metadata": {
        "id": "0UrqBeDNrRU1"
      }
    },
    {
      "cell_type": "code",
      "execution_count": null,
      "metadata": {
        "id": "qgqxmPdXjS10"
      },
      "outputs": [],
      "source": [
        "train_df = train_df[[\"path\", \"tipus\"]]\n"
      ]
    },
    {
      "cell_type": "code",
      "execution_count": null,
      "metadata": {
        "colab": {
          "base_uri": "https://localhost:8080/",
          "height": 206
        },
        "id": "l5sJQzUMjeZY",
        "outputId": "5fe1eb62-dbc5-4724-b369-81284d67f140"
      },
      "outputs": [
        {
          "output_type": "execute_result",
          "data": {
            "text/plain": [
              "                                            path  tipus\n",
              "0  badata/cd1/data/c3/r1/images/e3/c3r1e3n12.tif      4\n",
              "1  badata/cd1/data/c3/r1/images/e3/c3r1e3n28.tif      4\n",
              "2  badata/cd1/data/c3/r1/images/e3/c3r1e3n25.tif      4\n",
              "3  badata/cd1/data/c3/r1/images/e3/c3r1e3n11.tif      4\n",
              "4  badata/cd1/data/c3/r1/images/e3/c3r1e3n47.tif      4"
            ],
            "text/html": [
              "\n",
              "  <div id=\"df-8aff3bc4-700a-4e5f-8d46-f33c68e5d6c8\">\n",
              "    <div class=\"colab-df-container\">\n",
              "      <div>\n",
              "<style scoped>\n",
              "    .dataframe tbody tr th:only-of-type {\n",
              "        vertical-align: middle;\n",
              "    }\n",
              "\n",
              "    .dataframe tbody tr th {\n",
              "        vertical-align: top;\n",
              "    }\n",
              "\n",
              "    .dataframe thead th {\n",
              "        text-align: right;\n",
              "    }\n",
              "</style>\n",
              "<table border=\"1\" class=\"dataframe\">\n",
              "  <thead>\n",
              "    <tr style=\"text-align: right;\">\n",
              "      <th></th>\n",
              "      <th>path</th>\n",
              "      <th>tipus</th>\n",
              "    </tr>\n",
              "  </thead>\n",
              "  <tbody>\n",
              "    <tr>\n",
              "      <th>0</th>\n",
              "      <td>badata/cd1/data/c3/r1/images/e3/c3r1e3n12.tif</td>\n",
              "      <td>4</td>\n",
              "    </tr>\n",
              "    <tr>\n",
              "      <th>1</th>\n",
              "      <td>badata/cd1/data/c3/r1/images/e3/c3r1e3n28.tif</td>\n",
              "      <td>4</td>\n",
              "    </tr>\n",
              "    <tr>\n",
              "      <th>2</th>\n",
              "      <td>badata/cd1/data/c3/r1/images/e3/c3r1e3n25.tif</td>\n",
              "      <td>4</td>\n",
              "    </tr>\n",
              "    <tr>\n",
              "      <th>3</th>\n",
              "      <td>badata/cd1/data/c3/r1/images/e3/c3r1e3n11.tif</td>\n",
              "      <td>4</td>\n",
              "    </tr>\n",
              "    <tr>\n",
              "      <th>4</th>\n",
              "      <td>badata/cd1/data/c3/r1/images/e3/c3r1e3n47.tif</td>\n",
              "      <td>4</td>\n",
              "    </tr>\n",
              "  </tbody>\n",
              "</table>\n",
              "</div>\n",
              "      <button class=\"colab-df-convert\" onclick=\"convertToInteractive('df-8aff3bc4-700a-4e5f-8d46-f33c68e5d6c8')\"\n",
              "              title=\"Convert this dataframe to an interactive table.\"\n",
              "              style=\"display:none;\">\n",
              "        \n",
              "  <svg xmlns=\"http://www.w3.org/2000/svg\" height=\"24px\"viewBox=\"0 0 24 24\"\n",
              "       width=\"24px\">\n",
              "    <path d=\"M0 0h24v24H0V0z\" fill=\"none\"/>\n",
              "    <path d=\"M18.56 5.44l.94 2.06.94-2.06 2.06-.94-2.06-.94-.94-2.06-.94 2.06-2.06.94zm-11 1L8.5 8.5l.94-2.06 2.06-.94-2.06-.94L8.5 2.5l-.94 2.06-2.06.94zm10 10l.94 2.06.94-2.06 2.06-.94-2.06-.94-.94-2.06-.94 2.06-2.06.94z\"/><path d=\"M17.41 7.96l-1.37-1.37c-.4-.4-.92-.59-1.43-.59-.52 0-1.04.2-1.43.59L10.3 9.45l-7.72 7.72c-.78.78-.78 2.05 0 2.83L4 21.41c.39.39.9.59 1.41.59.51 0 1.02-.2 1.41-.59l7.78-7.78 2.81-2.81c.8-.78.8-2.07 0-2.86zM5.41 20L4 18.59l7.72-7.72 1.47 1.35L5.41 20z\"/>\n",
              "  </svg>\n",
              "      </button>\n",
              "      \n",
              "  <style>\n",
              "    .colab-df-container {\n",
              "      display:flex;\n",
              "      flex-wrap:wrap;\n",
              "      gap: 12px;\n",
              "    }\n",
              "\n",
              "    .colab-df-convert {\n",
              "      background-color: #E8F0FE;\n",
              "      border: none;\n",
              "      border-radius: 50%;\n",
              "      cursor: pointer;\n",
              "      display: none;\n",
              "      fill: #1967D2;\n",
              "      height: 32px;\n",
              "      padding: 0 0 0 0;\n",
              "      width: 32px;\n",
              "    }\n",
              "\n",
              "    .colab-df-convert:hover {\n",
              "      background-color: #E2EBFA;\n",
              "      box-shadow: 0px 1px 2px rgba(60, 64, 67, 0.3), 0px 1px 3px 1px rgba(60, 64, 67, 0.15);\n",
              "      fill: #174EA6;\n",
              "    }\n",
              "\n",
              "    [theme=dark] .colab-df-convert {\n",
              "      background-color: #3B4455;\n",
              "      fill: #D2E3FC;\n",
              "    }\n",
              "\n",
              "    [theme=dark] .colab-df-convert:hover {\n",
              "      background-color: #434B5C;\n",
              "      box-shadow: 0px 1px 3px 1px rgba(0, 0, 0, 0.15);\n",
              "      filter: drop-shadow(0px 1px 2px rgba(0, 0, 0, 0.3));\n",
              "      fill: #FFFFFF;\n",
              "    }\n",
              "  </style>\n",
              "\n",
              "      <script>\n",
              "        const buttonEl =\n",
              "          document.querySelector('#df-8aff3bc4-700a-4e5f-8d46-f33c68e5d6c8 button.colab-df-convert');\n",
              "        buttonEl.style.display =\n",
              "          google.colab.kernel.accessAllowed ? 'block' : 'none';\n",
              "\n",
              "        async function convertToInteractive(key) {\n",
              "          const element = document.querySelector('#df-8aff3bc4-700a-4e5f-8d46-f33c68e5d6c8');\n",
              "          const dataTable =\n",
              "            await google.colab.kernel.invokeFunction('convertToInteractive',\n",
              "                                                     [key], {});\n",
              "          if (!dataTable) return;\n",
              "\n",
              "          const docLinkHtml = 'Like what you see? Visit the ' +\n",
              "            '<a target=\"_blank\" href=https://colab.research.google.com/notebooks/data_table.ipynb>data table notebook</a>'\n",
              "            + ' to learn more about interactive tables.';\n",
              "          element.innerHTML = '';\n",
              "          dataTable['output_type'] = 'display_data';\n",
              "          await google.colab.output.renderOutput(dataTable, element);\n",
              "          const docLink = document.createElement('div');\n",
              "          docLink.innerHTML = docLinkHtml;\n",
              "          element.appendChild(docLink);\n",
              "        }\n",
              "      </script>\n",
              "    </div>\n",
              "  </div>\n",
              "  "
            ]
          },
          "metadata": {},
          "execution_count": 9
        }
      ],
      "source": [
        "train_df.head()"
      ]
    },
    {
      "cell_type": "markdown",
      "source": [
        "We don't want to add unwanted relationsships between types and so we one-hot encoded the type ids"
      ],
      "metadata": {
        "id": "_rHEeofArilE"
      }
    },
    {
      "cell_type": "code",
      "source": [
        "from sklearn.preprocessing import OneHotEncoder\n",
        "\n",
        "encod = OneHotEncoder()\n",
        "\n",
        "encod.fit(train_df[['tipus']])\n",
        "patterns = encod.transform(train_df[['tipus']]).toarray()"
      ],
      "metadata": {
        "id": "yQl3TQru973k"
      },
      "execution_count": null,
      "outputs": []
    },
    {
      "cell_type": "code",
      "execution_count": null,
      "metadata": {
        "id": "09bTUdYakcMj"
      },
      "outputs": [],
      "source": [
        "train_df[['0', '1', '2', '3', '4', '5']] = patterns"
      ]
    },
    {
      "cell_type": "code",
      "source": [
        "train_df.head()"
      ],
      "metadata": {
        "colab": {
          "base_uri": "https://localhost:8080/",
          "height": 424
        },
        "id": "I_FacyRjCvcE",
        "outputId": "a5250a54-1fef-4a22-8493-8ed1312c7c0e"
      },
      "execution_count": null,
      "outputs": [
        {
          "output_type": "execute_result",
          "data": {
            "text/plain": [
              "                                               path  tipus    0    1    2  \\\n",
              "0     badata/cd1/data/c3/r1/images/e3/c3r1e3n12.tif      4  0.0  0.0  0.0   \n",
              "1     badata/cd1/data/c3/r1/images/e3/c3r1e3n28.tif      4  0.0  0.0  0.0   \n",
              "2     badata/cd1/data/c3/r1/images/e3/c3r1e3n25.tif      4  0.0  0.0  0.0   \n",
              "3     badata/cd1/data/c3/r1/images/e3/c3r1e3n11.tif      4  0.0  0.0  0.0   \n",
              "4     badata/cd1/data/c3/r1/images/e3/c3r1e3n47.tif      4  0.0  0.0  0.0   \n",
              "...                                             ...    ...  ...  ...  ...   \n",
              "3206  badata/cd1/data/c1/r3/images/e5/c1r3e5n19.tif      1  0.0  1.0  0.0   \n",
              "3207  badata/cd1/data/c1/r3/images/e5/c1r3e5n48.tif      1  0.0  1.0  0.0   \n",
              "3208  badata/cd1/data/c1/r3/images/e5/c1r3e5n18.tif      1  0.0  1.0  0.0   \n",
              "3209   badata/cd1/data/c1/r3/images/e5/c1r3e5n1.tif      1  0.0  1.0  0.0   \n",
              "3210  badata/cd1/data/c1/r3/images/e5/c1r3e5n26.tif      1  0.0  1.0  0.0   \n",
              "\n",
              "        3    4    5  \n",
              "0     0.0  1.0  0.0  \n",
              "1     0.0  1.0  0.0  \n",
              "2     0.0  1.0  0.0  \n",
              "3     0.0  1.0  0.0  \n",
              "4     0.0  1.0  0.0  \n",
              "...   ...  ...  ...  \n",
              "3206  0.0  0.0  0.0  \n",
              "3207  0.0  0.0  0.0  \n",
              "3208  0.0  0.0  0.0  \n",
              "3209  0.0  0.0  0.0  \n",
              "3210  0.0  0.0  0.0  \n",
              "\n",
              "[3211 rows x 8 columns]"
            ],
            "text/html": [
              "\n",
              "  <div id=\"df-a4339a9c-8596-466b-9639-69fcf73c155c\">\n",
              "    <div class=\"colab-df-container\">\n",
              "      <div>\n",
              "<style scoped>\n",
              "    .dataframe tbody tr th:only-of-type {\n",
              "        vertical-align: middle;\n",
              "    }\n",
              "\n",
              "    .dataframe tbody tr th {\n",
              "        vertical-align: top;\n",
              "    }\n",
              "\n",
              "    .dataframe thead th {\n",
              "        text-align: right;\n",
              "    }\n",
              "</style>\n",
              "<table border=\"1\" class=\"dataframe\">\n",
              "  <thead>\n",
              "    <tr style=\"text-align: right;\">\n",
              "      <th></th>\n",
              "      <th>path</th>\n",
              "      <th>tipus</th>\n",
              "      <th>0</th>\n",
              "      <th>1</th>\n",
              "      <th>2</th>\n",
              "      <th>3</th>\n",
              "      <th>4</th>\n",
              "      <th>5</th>\n",
              "    </tr>\n",
              "  </thead>\n",
              "  <tbody>\n",
              "    <tr>\n",
              "      <th>0</th>\n",
              "      <td>badata/cd1/data/c3/r1/images/e3/c3r1e3n12.tif</td>\n",
              "      <td>4</td>\n",
              "      <td>0.0</td>\n",
              "      <td>0.0</td>\n",
              "      <td>0.0</td>\n",
              "      <td>0.0</td>\n",
              "      <td>1.0</td>\n",
              "      <td>0.0</td>\n",
              "    </tr>\n",
              "    <tr>\n",
              "      <th>1</th>\n",
              "      <td>badata/cd1/data/c3/r1/images/e3/c3r1e3n28.tif</td>\n",
              "      <td>4</td>\n",
              "      <td>0.0</td>\n",
              "      <td>0.0</td>\n",
              "      <td>0.0</td>\n",
              "      <td>0.0</td>\n",
              "      <td>1.0</td>\n",
              "      <td>0.0</td>\n",
              "    </tr>\n",
              "    <tr>\n",
              "      <th>2</th>\n",
              "      <td>badata/cd1/data/c3/r1/images/e3/c3r1e3n25.tif</td>\n",
              "      <td>4</td>\n",
              "      <td>0.0</td>\n",
              "      <td>0.0</td>\n",
              "      <td>0.0</td>\n",
              "      <td>0.0</td>\n",
              "      <td>1.0</td>\n",
              "      <td>0.0</td>\n",
              "    </tr>\n",
              "    <tr>\n",
              "      <th>3</th>\n",
              "      <td>badata/cd1/data/c3/r1/images/e3/c3r1e3n11.tif</td>\n",
              "      <td>4</td>\n",
              "      <td>0.0</td>\n",
              "      <td>0.0</td>\n",
              "      <td>0.0</td>\n",
              "      <td>0.0</td>\n",
              "      <td>1.0</td>\n",
              "      <td>0.0</td>\n",
              "    </tr>\n",
              "    <tr>\n",
              "      <th>4</th>\n",
              "      <td>badata/cd1/data/c3/r1/images/e3/c3r1e3n47.tif</td>\n",
              "      <td>4</td>\n",
              "      <td>0.0</td>\n",
              "      <td>0.0</td>\n",
              "      <td>0.0</td>\n",
              "      <td>0.0</td>\n",
              "      <td>1.0</td>\n",
              "      <td>0.0</td>\n",
              "    </tr>\n",
              "    <tr>\n",
              "      <th>...</th>\n",
              "      <td>...</td>\n",
              "      <td>...</td>\n",
              "      <td>...</td>\n",
              "      <td>...</td>\n",
              "      <td>...</td>\n",
              "      <td>...</td>\n",
              "      <td>...</td>\n",
              "      <td>...</td>\n",
              "    </tr>\n",
              "    <tr>\n",
              "      <th>3206</th>\n",
              "      <td>badata/cd1/data/c1/r3/images/e5/c1r3e5n19.tif</td>\n",
              "      <td>1</td>\n",
              "      <td>0.0</td>\n",
              "      <td>1.0</td>\n",
              "      <td>0.0</td>\n",
              "      <td>0.0</td>\n",
              "      <td>0.0</td>\n",
              "      <td>0.0</td>\n",
              "    </tr>\n",
              "    <tr>\n",
              "      <th>3207</th>\n",
              "      <td>badata/cd1/data/c1/r3/images/e5/c1r3e5n48.tif</td>\n",
              "      <td>1</td>\n",
              "      <td>0.0</td>\n",
              "      <td>1.0</td>\n",
              "      <td>0.0</td>\n",
              "      <td>0.0</td>\n",
              "      <td>0.0</td>\n",
              "      <td>0.0</td>\n",
              "    </tr>\n",
              "    <tr>\n",
              "      <th>3208</th>\n",
              "      <td>badata/cd1/data/c1/r3/images/e5/c1r3e5n18.tif</td>\n",
              "      <td>1</td>\n",
              "      <td>0.0</td>\n",
              "      <td>1.0</td>\n",
              "      <td>0.0</td>\n",
              "      <td>0.0</td>\n",
              "      <td>0.0</td>\n",
              "      <td>0.0</td>\n",
              "    </tr>\n",
              "    <tr>\n",
              "      <th>3209</th>\n",
              "      <td>badata/cd1/data/c1/r3/images/e5/c1r3e5n1.tif</td>\n",
              "      <td>1</td>\n",
              "      <td>0.0</td>\n",
              "      <td>1.0</td>\n",
              "      <td>0.0</td>\n",
              "      <td>0.0</td>\n",
              "      <td>0.0</td>\n",
              "      <td>0.0</td>\n",
              "    </tr>\n",
              "    <tr>\n",
              "      <th>3210</th>\n",
              "      <td>badata/cd1/data/c1/r3/images/e5/c1r3e5n26.tif</td>\n",
              "      <td>1</td>\n",
              "      <td>0.0</td>\n",
              "      <td>1.0</td>\n",
              "      <td>0.0</td>\n",
              "      <td>0.0</td>\n",
              "      <td>0.0</td>\n",
              "      <td>0.0</td>\n",
              "    </tr>\n",
              "  </tbody>\n",
              "</table>\n",
              "<p>3211 rows × 8 columns</p>\n",
              "</div>\n",
              "      <button class=\"colab-df-convert\" onclick=\"convertToInteractive('df-a4339a9c-8596-466b-9639-69fcf73c155c')\"\n",
              "              title=\"Convert this dataframe to an interactive table.\"\n",
              "              style=\"display:none;\">\n",
              "        \n",
              "  <svg xmlns=\"http://www.w3.org/2000/svg\" height=\"24px\"viewBox=\"0 0 24 24\"\n",
              "       width=\"24px\">\n",
              "    <path d=\"M0 0h24v24H0V0z\" fill=\"none\"/>\n",
              "    <path d=\"M18.56 5.44l.94 2.06.94-2.06 2.06-.94-2.06-.94-.94-2.06-.94 2.06-2.06.94zm-11 1L8.5 8.5l.94-2.06 2.06-.94-2.06-.94L8.5 2.5l-.94 2.06-2.06.94zm10 10l.94 2.06.94-2.06 2.06-.94-2.06-.94-.94-2.06-.94 2.06-2.06.94z\"/><path d=\"M17.41 7.96l-1.37-1.37c-.4-.4-.92-.59-1.43-.59-.52 0-1.04.2-1.43.59L10.3 9.45l-7.72 7.72c-.78.78-.78 2.05 0 2.83L4 21.41c.39.39.9.59 1.41.59.51 0 1.02-.2 1.41-.59l7.78-7.78 2.81-2.81c.8-.78.8-2.07 0-2.86zM5.41 20L4 18.59l7.72-7.72 1.47 1.35L5.41 20z\"/>\n",
              "  </svg>\n",
              "      </button>\n",
              "      \n",
              "  <style>\n",
              "    .colab-df-container {\n",
              "      display:flex;\n",
              "      flex-wrap:wrap;\n",
              "      gap: 12px;\n",
              "    }\n",
              "\n",
              "    .colab-df-convert {\n",
              "      background-color: #E8F0FE;\n",
              "      border: none;\n",
              "      border-radius: 50%;\n",
              "      cursor: pointer;\n",
              "      display: none;\n",
              "      fill: #1967D2;\n",
              "      height: 32px;\n",
              "      padding: 0 0 0 0;\n",
              "      width: 32px;\n",
              "    }\n",
              "\n",
              "    .colab-df-convert:hover {\n",
              "      background-color: #E2EBFA;\n",
              "      box-shadow: 0px 1px 2px rgba(60, 64, 67, 0.3), 0px 1px 3px 1px rgba(60, 64, 67, 0.15);\n",
              "      fill: #174EA6;\n",
              "    }\n",
              "\n",
              "    [theme=dark] .colab-df-convert {\n",
              "      background-color: #3B4455;\n",
              "      fill: #D2E3FC;\n",
              "    }\n",
              "\n",
              "    [theme=dark] .colab-df-convert:hover {\n",
              "      background-color: #434B5C;\n",
              "      box-shadow: 0px 1px 3px 1px rgba(0, 0, 0, 0.15);\n",
              "      filter: drop-shadow(0px 1px 2px rgba(0, 0, 0, 0.3));\n",
              "      fill: #FFFFFF;\n",
              "    }\n",
              "  </style>\n",
              "\n",
              "      <script>\n",
              "        const buttonEl =\n",
              "          document.querySelector('#df-a4339a9c-8596-466b-9639-69fcf73c155c button.colab-df-convert');\n",
              "        buttonEl.style.display =\n",
              "          google.colab.kernel.accessAllowed ? 'block' : 'none';\n",
              "\n",
              "        async function convertToInteractive(key) {\n",
              "          const element = document.querySelector('#df-a4339a9c-8596-466b-9639-69fcf73c155c');\n",
              "          const dataTable =\n",
              "            await google.colab.kernel.invokeFunction('convertToInteractive',\n",
              "                                                     [key], {});\n",
              "          if (!dataTable) return;\n",
              "\n",
              "          const docLinkHtml = 'Like what you see? Visit the ' +\n",
              "            '<a target=\"_blank\" href=https://colab.research.google.com/notebooks/data_table.ipynb>data table notebook</a>'\n",
              "            + ' to learn more about interactive tables.';\n",
              "          element.innerHTML = '';\n",
              "          dataTable['output_type'] = 'display_data';\n",
              "          await google.colab.output.renderOutput(dataTable, element);\n",
              "          const docLink = document.createElement('div');\n",
              "          docLink.innerHTML = docLinkHtml;\n",
              "          element.appendChild(docLink);\n",
              "        }\n",
              "      </script>\n",
              "    </div>\n",
              "  </div>\n",
              "  "
            ]
          },
          "metadata": {},
          "execution_count": 12
        }
      ]
    },
    {
      "cell_type": "markdown",
      "source": [
        "Getting the index patterns names"
      ],
      "metadata": {
        "id": "vYEvrwucr-qL"
      }
    },
    {
      "cell_type": "code",
      "source": [
        "index_patterns = train_df.columns[2:]"
      ],
      "metadata": {
        "id": "hYAPJcneCQGM"
      },
      "execution_count": null,
      "outputs": []
    },
    {
      "cell_type": "markdown",
      "metadata": {
        "id": "Av41oP6dlSwl"
      },
      "source": [
        "## Model preprocessing"
      ]
    },
    {
      "cell_type": "code",
      "execution_count": null,
      "metadata": {
        "id": "yX-O9A9qqyRq"
      },
      "outputs": [],
      "source": [
        "import cv2, os\n",
        "from tensorflow.keras import layers\n",
        "import matplotlib.pyplot as plt\n",
        "import tensorflow as tf"
      ]
    },
    {
      "cell_type": "markdown",
      "source": [
        "Creating a generator in order to consume less RAM.\n",
        "\n",
        " \n",
        "\n",
        "*   Before iterating we shuffle the dataframe so that the model don't get used to a single type.\n",
        "*   Replacing the path in order to get the image from our drive\n",
        "*   Reshaping the images to fit to the model training shape needs\n",
        "\n",
        "\n"
      ],
      "metadata": {
        "id": "RJ9MO2s3sFpx"
      }
    },
    {
      "cell_type": "code",
      "source": [
        "IMG_SIZE = 224\n",
        "images = []\n",
        "resize_and_rescale = tf.keras.Sequential([\n",
        "  layers.Resizing(IMG_SIZE, IMG_SIZE),\n",
        "  layers.Rescaling(1./255)\n",
        "])\n",
        "\n",
        "def get_images():\n",
        "  shffled_train_df = train_df.sample(frac=1)\n",
        "  for index, row in shffled_train_df.iterrows():\n",
        "    path = row.path\n",
        "    path = path.replace(\"badata/cd1/data/\", \"gdrive/MyDrive/HackEPS2022/data/lila/A1/\")\n",
        "    try:\n",
        "        img_arr = cv2.imread(path)\n",
        "        resized_arr = resize_and_rescale(img_arr) # Reshaping images to preferred size\n",
        "        yield tf.reshape(resized_arr, (1, 224,224,3)), tf.reshape(tf.convert_to_tensor(row[index_patterns], dtype=tf.float32), (1, 6))\n",
        "    except Exception as e:\n",
        "        pass"
      ],
      "metadata": {
        "id": "FxBmLV8_b1lz"
      },
      "execution_count": null,
      "outputs": []
    },
    {
      "cell_type": "markdown",
      "source": [
        "Finally not used, but we created another generator that augment images doing transformations to them. We didn't implement this because then the randomness of each type is lost."
      ],
      "metadata": {
        "id": "9uPpbVd6s3Sq"
      }
    },
    {
      "cell_type": "code",
      "source": [
        "data_augmentation = tf.keras.Sequential([\n",
        "  layers.RandomFlip(\"horizontal_and_vertical\"),\n",
        "  layers.RandomRotation(0.2),\n",
        "])\n",
        "\n",
        "def augment_images():\n",
        "  for image, image_tag in get_images():\n",
        "    yield image, image_tag\n",
        "    for _ in range(5):\n",
        "      augmented_image = data_augmentation(image)\n",
        "      yield augmented_image, image_tag"
      ],
      "metadata": {
        "id": "WIsfeoqjYz-B"
      },
      "execution_count": null,
      "outputs": []
    },
    {
      "cell_type": "markdown",
      "source": [
        "Creating the dataset from the generator"
      ],
      "metadata": {
        "id": "Zd3f6zmQtGz4"
      }
    },
    {
      "cell_type": "code",
      "source": [
        "dataset = tf.data.Dataset.from_generator(\n",
        "     get_images,\n",
        "     output_signature=(\n",
        "         tf.TensorSpec(shape=(1, 224,224,3), dtype=tf.float32),\n",
        "         tf.TensorSpec(shape=(1, 6), dtype=tf.float32)))"
      ],
      "metadata": {
        "id": "bSNPzaBhhgTx"
      },
      "execution_count": null,
      "outputs": []
    },
    {
      "cell_type": "markdown",
      "source": [
        "Splitting the dataset into test_dataset and train_dataset, this is done by enumerating all the instances and then getting the ones that their index is divisor by 4."
      ],
      "metadata": {
        "id": "0AnEgeaqtMYW"
      }
    },
    {
      "cell_type": "code",
      "source": [
        "# Splitting the dataset for training and testing.\n",
        "def is_test(x, _):\n",
        "    return x % 4 == 0\n",
        "\n",
        "\n",
        "def is_train(x, y):\n",
        "    return not is_test(x, y)\n",
        "\n",
        "\n",
        "recover = lambda x, y: y\n",
        "\n",
        "# Split the dataset for training.\n",
        "test_dataset = dataset.enumerate() \\\n",
        "    .filter(is_test) \\\n",
        "    .map(recover)\n",
        "\n",
        "# Split the dataset for testing/validation.\n",
        "train_dataset = dataset.enumerate() \\\n",
        "    .filter(is_train) \\\n",
        "    .map(recover)"
      ],
      "metadata": {
        "id": "XCMkHIAujb-y"
      },
      "execution_count": null,
      "outputs": []
    },
    {
      "cell_type": "markdown",
      "metadata": {
        "id": "iqTibjF-tHaj"
      },
      "source": [
        "## Modeling"
      ]
    },
    {
      "cell_type": "code",
      "execution_count": null,
      "metadata": {
        "id": "U3p2ToTGtCoS"
      },
      "outputs": [],
      "source": [
        "import keras\n",
        "from keras.models import Sequential\n",
        "from keras.layers import Dense, Conv2D , MaxPool2D , Flatten , Dropout \n",
        "from keras.preprocessing.image import ImageDataGenerator\n",
        "from keras.optimizers import Adam\n",
        "\n",
        "from sklearn.metrics import classification_report,confusion_matrix\n",
        "\n",
        "import tensorflow as tf"
      ]
    },
    {
      "cell_type": "code",
      "execution_count": null,
      "metadata": {
        "id": "a5u-rcAFtKky"
      },
      "outputs": [],
      "source": [
        "model = tf.keras.models.Sequential([\n",
        "# Note the input shape is the desired size of the image 200x200 with 3 bytes color\n",
        "# This is the first convolution\n",
        "tf.keras.layers.Conv2D(16, (3,3), activation='relu', input_shape=(224, 224, 3), padding=\"same\"),\n",
        "tf.keras.layers.MaxPooling2D(2, 2),\n",
        "# The second convolution\n",
        "tf.keras.layers.Conv2D(32, (3,3), activation='relu', padding=\"same\"),\n",
        "tf.keras.layers.MaxPooling2D(2,2),\n",
        "# The third convolution\n",
        "tf.keras.layers.Conv2D(64, (3,3), activation='relu', padding=\"same\"),\n",
        "tf.keras.layers.MaxPooling2D(2,2),\n",
        "# The fourth convolution\n",
        "tf.keras.layers.Conv2D(64, (3,3), activation='relu', padding=\"same\"),\n",
        "tf.keras.layers.MaxPooling2D(2,2),\n",
        "# # The fifth convolution\n",
        "tf.keras.layers.Conv2D(64, (3,3), activation='relu', padding=\"same\"),\n",
        "tf.keras.layers.MaxPooling2D(2,2),\n",
        "# Flatten the results to feed into a DNN\n",
        "tf.keras.layers.Flatten(),\n",
        "# 512 neuron hidden layer\n",
        "tf.keras.layers.Dense(512, activation='relu'),\n",
        "# Only 1 output neuron. It will contain a value from 0-1 where 0 for 1 class ('dandelions') and 1 for the other ('grass')\n",
        "tf.keras.layers.Dense(6, activation='softmax')\n",
        "])"
      ]
    },
    {
      "cell_type": "code",
      "source": [
        "model.summary()"
      ],
      "metadata": {
        "id": "Up1SV1BxPxtM"
      },
      "execution_count": null,
      "outputs": []
    },
    {
      "cell_type": "code",
      "source": [
        "model2 = tf.keras.applications.resnet50.ResNet50(\n",
        "    include_top=False,\n",
        "    weights='imagenet',\n",
        "    input_tensor=None,\n",
        "    input_shape=(224, 224, 3),\n",
        "    pooling=None,\n",
        "    classes=6,\n",
        ")"
      ],
      "metadata": {
        "id": "OI2AJIUO3GvD"
      },
      "execution_count": null,
      "outputs": []
    },
    {
      "cell_type": "code",
      "execution_count": null,
      "metadata": {
        "id": "r8CT8zk0tQ_d",
        "colab": {
          "base_uri": "https://localhost:8080/"
        },
        "outputId": "95c1ae60-2e3f-41fd-8491-25ae3dfde346"
      },
      "outputs": [
        {
          "output_type": "stream",
          "name": "stderr",
          "text": [
            "/usr/local/lib/python3.7/dist-packages/keras/optimizers/optimizer_v2/adam.py:110: UserWarning: The `lr` argument is deprecated, use `learning_rate` instead.\n",
            "  super(Adam, self).__init__(name, **kwargs)\n"
          ]
        }
      ],
      "source": [
        "opt = Adam(lr=0.000001)\n",
        "model.compile(optimizer = opt , loss='categorical_crossentropy', metrics = ['accuracy'])"
      ]
    },
    {
      "cell_type": "markdown",
      "source": [
        "# Training the model"
      ],
      "metadata": {
        "id": "lJ_zQbT-t2pK"
      }
    },
    {
      "cell_type": "code",
      "execution_count": null,
      "metadata": {
        "colab": {
          "base_uri": "https://localhost:8080/"
        },
        "id": "90cx0oZstXyV",
        "outputId": "3335ac66-6c91-421f-d654-d909c348b16f"
      },
      "outputs": [
        {
          "metadata": {
            "tags": null
          },
          "name": "stdout",
          "output_type": "stream",
          "text": [
            "Epoch 1/5\n",
            "     24/Unknown - 12s 468ms/step - loss: 1.7709 - accuracy: 0.2500"
          ]
        },
        {
          "metadata": {
            "tags": null
          },
          "name": "stderr",
          "output_type": "stream",
          "text": [
            "WARNING:tensorflow:Layers in a Sequential model should only have a single input tensor. Received: inputs=None. Consider rewriting this model with the Functional API.\n"
          ]
        },
        {
          "metadata": {
            "tags": null
          },
          "name": "stdout",
          "output_type": "stream",
          "text": [
            "    552/Unknown - 161s 291ms/step - loss: 1.7750 - accuracy: 0.2120"
          ]
        },
        {
          "metadata": {
            "tags": null
          },
          "name": "stderr",
          "output_type": "stream",
          "text": [
            "WARNING:tensorflow:Layers in a Sequential model should only have a single input tensor. Received: inputs=None. Consider rewriting this model with the Functional API.\n"
          ]
        },
        {
          "metadata": {
            "tags": null
          },
          "name": "stdout",
          "output_type": "stream",
          "text": [
            "    735/Unknown - 215s 291ms/step - loss: 1.7681 - accuracy: 0.2340"
          ]
        },
        {
          "metadata": {
            "tags": null
          },
          "name": "stderr",
          "output_type": "stream",
          "text": [
            "WARNING:tensorflow:Layers in a Sequential model should only have a single input tensor. Received: inputs=None. Consider rewriting this model with the Functional API.\n"
          ]
        },
        {
          "metadata": {
            "tags": null
          },
          "name": "stdout",
          "output_type": "stream",
          "text": [
            "   1257/Unknown - 364s 289ms/step - loss: 1.7582 - accuracy: 0.2347"
          ]
        },
        {
          "metadata": {
            "tags": null
          },
          "name": "stderr",
          "output_type": "stream",
          "text": [
            "WARNING:tensorflow:Layers in a Sequential model should only have a single input tensor. Received: inputs=None. Consider rewriting this model with the Functional API.\n"
          ]
        },
        {
          "metadata": {
            "tags": null
          },
          "name": "stdout",
          "output_type": "stream",
          "text": [
            "   1465/Unknown - 426s 290ms/step - loss: 1.7544 - accuracy: 0.2328"
          ]
        },
        {
          "metadata": {
            "tags": null
          },
          "name": "stderr",
          "output_type": "stream",
          "text": [
            "WARNING:tensorflow:Layers in a Sequential model should only have a single input tensor. Received: inputs=None. Consider rewriting this model with the Functional API.\n"
          ]
        },
        {
          "metadata": {
            "tags": null
          },
          "name": "stdout",
          "output_type": "stream",
          "text": [
            "   1949/Unknown - 564s 289ms/step - loss: 1.7424 - accuracy: 0.2401"
          ]
        },
        {
          "metadata": {
            "tags": null
          },
          "name": "stderr",
          "output_type": "stream",
          "text": [
            "WARNING:tensorflow:Layers in a Sequential model should only have a single input tensor. Received: inputs=None. Consider rewriting this model with the Functional API.\n"
          ]
        },
        {
          "metadata": {
            "tags": null
          },
          "name": "stdout",
          "output_type": "stream",
          "text": [
            "   2403/Unknown - 695s 289ms/step - loss: 1.7316 - accuracy: 0.2401"
          ]
        },
        {
          "metadata": {
            "tags": null
          },
          "name": "stderr",
          "output_type": "stream",
          "text": [
            "WARNING:tensorflow:Layers in a Sequential model should only have a single input tensor. Received: inputs=None. Consider rewriting this model with the Functional API.\n",
            "WARNING:tensorflow:Layers in a Sequential model should only have a single input tensor. Received: inputs=None. Consider rewriting this model with the Functional API.\n",
            "WARNING:tensorflow:Layers in a Sequential model should only have a single input tensor. Received: inputs=None. Consider rewriting this model with the Functional API.\n",
            "WARNING:tensorflow:Layers in a Sequential model should only have a single input tensor. Received: inputs=None. Consider rewriting this model with the Functional API.\n",
            "WARNING:tensorflow:Layers in a Sequential model should only have a single input tensor. Received: inputs=None. Consider rewriting this model with the Functional API.\n",
            "WARNING:tensorflow:Layers in a Sequential model should only have a single input tensor. Received: inputs=None. Consider rewriting this model with the Functional API.\n"
          ]
        },
        {
          "metadata": {
            "tags": null
          },
          "name": "stdout",
          "output_type": "stream",
          "text": [
            "2403/2403 [==============================] - 777s 323ms/step - loss: 1.7316 - accuracy: 0.2401 - val_loss: 1.6781 - val_accuracy: 0.2444\n",
            "Epoch 2/5\n",
            " 475/2403 [====>.........................] - ETA: 2:42 - loss: 1.6336 - accuracy: 0.2758"
          ]
        },
        {
          "metadata": {
            "tags": null
          },
          "name": "stderr",
          "output_type": "stream",
          "text": [
            "WARNING:tensorflow:Layers in a Sequential model should only have a single input tensor. Received: inputs=None. Consider rewriting this model with the Functional API.\n"
          ]
        },
        {
          "metadata": {
            "tags": null
          },
          "name": "stdout",
          "output_type": "stream",
          "text": [
            " 730/2403 [========>.....................] - ETA: 2:20 - loss: 1.6358 - accuracy: 0.2630"
          ]
        },
        {
          "metadata": {
            "tags": null
          },
          "name": "stderr",
          "output_type": "stream",
          "text": [
            "WARNING:tensorflow:Layers in a Sequential model should only have a single input tensor. Received: inputs=None. Consider rewriting this model with the Functional API.\n",
            "WARNING:tensorflow:Layers in a Sequential model should only have a single input tensor. Received: inputs=None. Consider rewriting this model with the Functional API.\n"
          ]
        },
        {
          "metadata": {
            "tags": null
          },
          "name": "stdout",
          "output_type": "stream",
          "text": [
            " 758/2403 [========>.....................] - ETA: 2:18 - loss: 1.6352 - accuracy: 0.2652"
          ]
        },
        {
          "metadata": {
            "tags": null
          },
          "name": "stderr",
          "output_type": "stream",
          "text": [
            "WARNING:tensorflow:Layers in a Sequential model should only have a single input tensor. Received: inputs=None. Consider rewriting this model with the Functional API.\n"
          ]
        },
        {
          "metadata": {
            "tags": null
          },
          "name": "stdout",
          "output_type": "stream",
          "text": [
            "1157/2403 [=============>................] - ETA: 1:44 - loss: 1.6294 - accuracy: 0.3207"
          ]
        },
        {
          "metadata": {
            "tags": null
          },
          "name": "stderr",
          "output_type": "stream",
          "text": [
            "WARNING:tensorflow:Layers in a Sequential model should only have a single input tensor. Received: inputs=None. Consider rewriting this model with the Functional API.\n"
          ]
        },
        {
          "metadata": {
            "tags": null
          },
          "name": "stdout",
          "output_type": "stream",
          "text": [
            "1315/2403 [===============>..............] - ETA: 1:31 - loss: 1.6297 - accuracy: 0.3384"
          ]
        },
        {
          "metadata": {
            "tags": null
          },
          "name": "stderr",
          "output_type": "stream",
          "text": [
            "WARNING:tensorflow:Layers in a Sequential model should only have a single input tensor. Received: inputs=None. Consider rewriting this model with the Functional API.\n"
          ]
        },
        {
          "metadata": {
            "tags": null
          },
          "name": "stdout",
          "output_type": "stream",
          "text": [
            "2403/2403 [==============================] - ETA: 0s - loss: 1.6038 - accuracy: 0.3983"
          ]
        },
        {
          "metadata": {
            "tags": null
          },
          "name": "stderr",
          "output_type": "stream",
          "text": [
            "WARNING:tensorflow:Layers in a Sequential model should only have a single input tensor. Received: inputs=None. Consider rewriting this model with the Functional API.\n",
            "WARNING:tensorflow:Layers in a Sequential model should only have a single input tensor. Received: inputs=None. Consider rewriting this model with the Functional API.\n",
            "WARNING:tensorflow:Layers in a Sequential model should only have a single input tensor. Received: inputs=None. Consider rewriting this model with the Functional API.\n",
            "WARNING:tensorflow:Layers in a Sequential model should only have a single input tensor. Received: inputs=None. Consider rewriting this model with the Functional API.\n",
            "WARNING:tensorflow:Layers in a Sequential model should only have a single input tensor. Received: inputs=None. Consider rewriting this model with the Functional API.\n",
            "WARNING:tensorflow:Layers in a Sequential model should only have a single input tensor. Received: inputs=None. Consider rewriting this model with the Functional API.\n"
          ]
        },
        {
          "metadata": {
            "tags": null
          },
          "name": "stdout",
          "output_type": "stream",
          "text": [
            "2403/2403 [==============================] - 252s 105ms/step - loss: 1.6038 - accuracy: 0.3983 - val_loss: 1.5076 - val_accuracy: 0.5050\n",
            "Epoch 3/5\n",
            "  64/2403 [..............................] - ETA: 3:39 - loss: 1.5143 - accuracy: 0.5000"
          ]
        },
        {
          "metadata": {
            "tags": null
          },
          "name": "stderr",
          "output_type": "stream",
          "text": [
            "WARNING:tensorflow:Layers in a Sequential model should only have a single input tensor. Received: inputs=None. Consider rewriting this model with the Functional API.\n"
          ]
        },
        {
          "metadata": {
            "tags": null
          },
          "name": "stdout",
          "output_type": "stream",
          "text": [
            " 656/2403 [=======>......................] - ETA: 2:37 - loss: 1.4873 - accuracy: 0.4970"
          ]
        },
        {
          "metadata": {
            "tags": null
          },
          "name": "stderr",
          "output_type": "stream",
          "text": [
            "WARNING:tensorflow:Layers in a Sequential model should only have a single input tensor. Received: inputs=None. Consider rewriting this model with the Functional API.\n"
          ]
        },
        {
          "metadata": {
            "tags": null
          },
          "name": "stdout",
          "output_type": "stream",
          "text": [
            " 831/2403 [=========>....................] - ETA: 2:25 - loss: 1.4777 - accuracy: 0.4922"
          ]
        },
        {
          "metadata": {
            "tags": null
          },
          "name": "stderr",
          "output_type": "stream",
          "text": [
            "WARNING:tensorflow:Layers in a Sequential model should only have a single input tensor. Received: inputs=None. Consider rewriting this model with the Functional API.\n"
          ]
        },
        {
          "metadata": {
            "tags": null
          },
          "name": "stdout",
          "output_type": "stream",
          "text": [
            "1090/2403 [============>.................] - ETA: 1:59 - loss: 1.4770 - accuracy: 0.4826"
          ]
        },
        {
          "metadata": {
            "tags": null
          },
          "name": "stderr",
          "output_type": "stream",
          "text": [
            "WARNING:tensorflow:Layers in a Sequential model should only have a single input tensor. Received: inputs=None. Consider rewriting this model with the Functional API.\n"
          ]
        },
        {
          "metadata": {
            "tags": null
          },
          "name": "stdout",
          "output_type": "stream",
          "text": [
            "1384/2403 [================>.............] - ETA: 1:32 - loss: 1.4554 - accuracy: 0.4949"
          ]
        },
        {
          "metadata": {
            "tags": null
          },
          "name": "stderr",
          "output_type": "stream",
          "text": [
            "WARNING:tensorflow:Layers in a Sequential model should only have a single input tensor. Received: inputs=None. Consider rewriting this model with the Functional API.\n"
          ]
        },
        {
          "metadata": {
            "tags": null
          },
          "name": "stdout",
          "output_type": "stream",
          "text": [
            "1593/2403 [==================>...........] - ETA: 1:12 - loss: 1.4514 - accuracy: 0.4896"
          ]
        },
        {
          "metadata": {
            "tags": null
          },
          "name": "stderr",
          "output_type": "stream",
          "text": [
            "WARNING:tensorflow:Layers in a Sequential model should only have a single input tensor. Received: inputs=None. Consider rewriting this model with the Functional API.\n"
          ]
        },
        {
          "metadata": {
            "tags": null
          },
          "name": "stdout",
          "output_type": "stream",
          "text": [
            "2403/2403 [==============================] - ETA: 0s - loss: 1.4076 - accuracy: 0.4956"
          ]
        },
        {
          "metadata": {
            "tags": null
          },
          "name": "stderr",
          "output_type": "stream",
          "text": [
            "WARNING:tensorflow:Layers in a Sequential model should only have a single input tensor. Received: inputs=None. Consider rewriting this model with the Functional API.\n",
            "WARNING:tensorflow:Layers in a Sequential model should only have a single input tensor. Received: inputs=None. Consider rewriting this model with the Functional API.\n",
            "WARNING:tensorflow:Layers in a Sequential model should only have a single input tensor. Received: inputs=None. Consider rewriting this model with the Functional API.\n",
            "WARNING:tensorflow:Layers in a Sequential model should only have a single input tensor. Received: inputs=None. Consider rewriting this model with the Functional API.\n",
            "WARNING:tensorflow:Layers in a Sequential model should only have a single input tensor. Received: inputs=None. Consider rewriting this model with the Functional API.\n",
            "WARNING:tensorflow:Layers in a Sequential model should only have a single input tensor. Received: inputs=None. Consider rewriting this model with the Functional API.\n"
          ]
        },
        {
          "metadata": {
            "tags": null
          },
          "name": "stdout",
          "output_type": "stream",
          "text": [
            "2403/2403 [==============================] - 269s 112ms/step - loss: 1.4076 - accuracy: 0.4956 - val_loss: 1.3144 - val_accuracy: 0.4825\n",
            "Epoch 4/5\n",
            " 242/2403 [==>...........................] - ETA: 3:07 - loss: 1.2858 - accuracy: 0.5083"
          ]
        },
        {
          "metadata": {
            "tags": null
          },
          "name": "stderr",
          "output_type": "stream",
          "text": [
            "WARNING:tensorflow:Layers in a Sequential model should only have a single input tensor. Received: inputs=None. Consider rewriting this model with the Functional API.\n"
          ]
        },
        {
          "metadata": {
            "tags": null
          },
          "name": "stdout",
          "output_type": "stream",
          "text": [
            " 753/2403 [========>.....................] - ETA: 2:23 - loss: 1.2490 - accuracy: 0.5139"
          ]
        },
        {
          "metadata": {
            "tags": null
          },
          "name": "stderr",
          "output_type": "stream",
          "text": [
            "WARNING:tensorflow:Layers in a Sequential model should only have a single input tensor. Received: inputs=None. Consider rewriting this model with the Functional API.\n"
          ]
        },
        {
          "metadata": {
            "tags": null
          },
          "name": "stdout",
          "output_type": "stream",
          "text": [
            "1231/2403 [==============>...............] - ETA: 1:41 - loss: 1.2337 - accuracy: 0.5085"
          ]
        },
        {
          "metadata": {
            "tags": null
          },
          "name": "stderr",
          "output_type": "stream",
          "text": [
            "WARNING:tensorflow:Layers in a Sequential model should only have a single input tensor. Received: inputs=None. Consider rewriting this model with the Functional API.\n"
          ]
        },
        {
          "metadata": {
            "tags": null
          },
          "name": "stdout",
          "output_type": "stream",
          "text": [
            "1523/2403 [==================>...........] - ETA: 1:15 - loss: 1.2239 - accuracy: 0.5043"
          ]
        },
        {
          "metadata": {
            "tags": null
          },
          "name": "stderr",
          "output_type": "stream",
          "text": [
            "WARNING:tensorflow:Layers in a Sequential model should only have a single input tensor. Received: inputs=None. Consider rewriting this model with the Functional API.\n"
          ]
        },
        {
          "metadata": {
            "tags": null
          },
          "name": "stdout",
          "output_type": "stream",
          "text": [
            "1765/2403 [=====================>........] - ETA: 54s - loss: 1.2139 - accuracy: 0.5059"
          ]
        },
        {
          "metadata": {
            "tags": null
          },
          "name": "stderr",
          "output_type": "stream",
          "text": [
            "WARNING:tensorflow:Layers in a Sequential model should only have a single input tensor. Received: inputs=None. Consider rewriting this model with the Functional API.\n"
          ]
        },
        {
          "metadata": {
            "tags": null
          },
          "name": "stdout",
          "output_type": "stream",
          "text": [
            "2170/2403 [==========================>...] - ETA: 20s - loss: 1.1949 - accuracy: 0.5115"
          ]
        },
        {
          "metadata": {
            "tags": null
          },
          "name": "stderr",
          "output_type": "stream",
          "text": [
            "WARNING:tensorflow:Layers in a Sequential model should only have a single input tensor. Received: inputs=None. Consider rewriting this model with the Functional API.\n"
          ]
        },
        {
          "metadata": {
            "tags": null
          },
          "name": "stdout",
          "output_type": "stream",
          "text": [
            "2403/2403 [==============================] - ETA: 0s - loss: 1.1896 - accuracy: 0.5114"
          ]
        },
        {
          "metadata": {
            "tags": null
          },
          "name": "stderr",
          "output_type": "stream",
          "text": [
            "WARNING:tensorflow:Layers in a Sequential model should only have a single input tensor. Received: inputs=None. Consider rewriting this model with the Functional API.\n",
            "WARNING:tensorflow:Layers in a Sequential model should only have a single input tensor. Received: inputs=None. Consider rewriting this model with the Functional API.\n",
            "WARNING:tensorflow:Layers in a Sequential model should only have a single input tensor. Received: inputs=None. Consider rewriting this model with the Functional API.\n",
            "WARNING:tensorflow:Layers in a Sequential model should only have a single input tensor. Received: inputs=None. Consider rewriting this model with the Functional API.\n",
            "WARNING:tensorflow:Layers in a Sequential model should only have a single input tensor. Received: inputs=None. Consider rewriting this model with the Functional API.\n",
            "WARNING:tensorflow:Layers in a Sequential model should only have a single input tensor. Received: inputs=None. Consider rewriting this model with the Functional API.\n"
          ]
        },
        {
          "metadata": {
            "tags": null
          },
          "name": "stdout",
          "output_type": "stream",
          "text": [
            "2403/2403 [==============================] - 257s 107ms/step - loss: 1.1896 - accuracy: 0.5114 - val_loss: 1.0902 - val_accuracy: 0.5786\n",
            "Epoch 5/5\n",
            " 846/2403 [=========>....................] - ETA: 2:13 - loss: 1.0333 - accuracy: 0.6655"
          ]
        },
        {
          "metadata": {
            "tags": null
          },
          "name": "stderr",
          "output_type": "stream",
          "text": [
            "WARNING:tensorflow:Layers in a Sequential model should only have a single input tensor. Received: inputs=None. Consider rewriting this model with the Functional API.\n"
          ]
        },
        {
          "metadata": {
            "tags": null
          },
          "name": "stdout",
          "output_type": "stream",
          "text": [
            "1293/2403 [===============>..............] - ETA: 1:37 - loss: 1.0168 - accuracy: 0.6489"
          ]
        },
        {
          "metadata": {
            "tags": null
          },
          "name": "stderr",
          "output_type": "stream",
          "text": [
            "WARNING:tensorflow:Layers in a Sequential model should only have a single input tensor. Received: inputs=None. Consider rewriting this model with the Functional API.\n"
          ]
        },
        {
          "metadata": {
            "tags": null
          },
          "name": "stdout",
          "output_type": "stream",
          "text": [
            "1558/2403 [==================>...........] - ETA: 1:13 - loss: 1.0072 - accuracy: 0.6418"
          ]
        },
        {
          "metadata": {
            "tags": null
          },
          "name": "stderr",
          "output_type": "stream",
          "text": [
            "WARNING:tensorflow:Layers in a Sequential model should only have a single input tensor. Received: inputs=None. Consider rewriting this model with the Functional API.\n"
          ]
        },
        {
          "metadata": {
            "tags": null
          },
          "name": "stdout",
          "output_type": "stream",
          "text": [
            "1612/2403 [===================>..........] - ETA: 1:08 - loss: 1.0065 - accuracy: 0.6408"
          ]
        },
        {
          "metadata": {
            "tags": null
          },
          "name": "stderr",
          "output_type": "stream",
          "text": [
            "WARNING:tensorflow:Layers in a Sequential model should only have a single input tensor. Received: inputs=None. Consider rewriting this model with the Functional API.\n"
          ]
        },
        {
          "metadata": {
            "tags": null
          },
          "name": "stdout",
          "output_type": "stream",
          "text": [
            "1773/2403 [=====================>........] - ETA: 54s - loss: 1.0014 - accuracy: 0.6379"
          ]
        },
        {
          "metadata": {
            "tags": null
          },
          "name": "stderr",
          "output_type": "stream",
          "text": [
            "WARNING:tensorflow:Layers in a Sequential model should only have a single input tensor. Received: inputs=None. Consider rewriting this model with the Functional API.\n"
          ]
        },
        {
          "metadata": {
            "tags": null
          },
          "name": "stdout",
          "output_type": "stream",
          "text": [
            "1924/2403 [=======================>......] - ETA: 41s - loss: 1.0006 - accuracy: 0.6440"
          ]
        },
        {
          "metadata": {
            "tags": null
          },
          "name": "stderr",
          "output_type": "stream",
          "text": [
            "WARNING:tensorflow:Layers in a Sequential model should only have a single input tensor. Received: inputs=None. Consider rewriting this model with the Functional API.\n"
          ]
        },
        {
          "output_type": "stream",
          "name": "stdout",
          "text": [
            "2403/2403 [==============================] - ETA: 0s - loss: 0.9858 - accuracy: 0.6496"
          ]
        },
        {
          "output_type": "stream",
          "name": "stderr",
          "text": [
            "WARNING:tensorflow:Layers in a Sequential model should only have a single input tensor. Received: inputs=None. Consider rewriting this model with the Functional API.\n",
            "WARNING:tensorflow:Layers in a Sequential model should only have a single input tensor. Received: inputs=None. Consider rewriting this model with the Functional API.\n",
            "WARNING:tensorflow:Layers in a Sequential model should only have a single input tensor. Received: inputs=None. Consider rewriting this model with the Functional API.\n",
            "WARNING:tensorflow:Layers in a Sequential model should only have a single input tensor. Received: inputs=None. Consider rewriting this model with the Functional API.\n",
            "WARNING:tensorflow:Layers in a Sequential model should only have a single input tensor. Received: inputs=None. Consider rewriting this model with the Functional API.\n",
            "WARNING:tensorflow:Layers in a Sequential model should only have a single input tensor. Received: inputs=None. Consider rewriting this model with the Functional API.\n"
          ]
        },
        {
          "output_type": "stream",
          "name": "stdout",
          "text": [
            "\b\b\b\b\b\b\b\b\b\b\b\b\b\b\b\b\b\b\b\b\b\b\b\b\b\b\b\b\b\b\b\b\b\b\b\b\b\b\b\b\b\b\b\b\b\b\b\b\b\b\b\b\b\b\b\b\b\b\b\b\b\b\b\b\b\b\b\b\b\b\b\b\b\b\b\b\b\b\b\b\b\b\b\b\b\b\r2403/2403 [==============================] - 256s 106ms/step - loss: 0.9858 - accuracy: 0.6496 - val_loss: 0.8866 - val_accuracy: 0.7269\n"
          ]
        }
      ],
      "source": [
        "history = model.fit(train_dataset, validation_data=test_dataset, epochs=5)"
      ]
    },
    {
      "cell_type": "markdown",
      "source": [
        "# Generating plots from the training"
      ],
      "metadata": {
        "id": "9I1qXLx3t6dQ"
      }
    },
    {
      "cell_type": "code",
      "execution_count": null,
      "metadata": {
        "id": "SdHlMy3hx_ix",
        "colab": {
          "base_uri": "https://localhost:8080/",
          "height": 312
        },
        "outputId": "a9a00627-51db-4418-8577-017ba712fc0d"
      },
      "outputs": [
        {
          "output_type": "stream",
          "name": "stdout",
          "text": [
            "dict_keys(['loss', 'accuracy', 'val_loss', 'val_accuracy'])\n"
          ]
        },
        {
          "output_type": "display_data",
          "data": {
            "text/plain": [
              "<Figure size 432x288 with 1 Axes>"
            ],
            "image/png": "[encoded data removed]"
          },
          "metadata": {
            "needs_background": "light"
          }
        }
      ],
      "source": [
        "# list all data in history\n",
        "print(history.history.keys())\n",
        "# summarize history for accuracy\n",
        "plt.plot(history.history['accuracy'])\n",
        "plt.plot(history.history['val_accuracy'])\n",
        "plt.title('model accuracy')\n",
        "plt.ylabel('accuracy')\n",
        "plt.xlabel('epoch')\n",
        "plt.legend(['train', 'test'], loc='upper left')\n",
        "plt.show()\n"
      ]
    },
    {
      "cell_type": "code",
      "execution_count": null,
      "metadata": {
        "id": "_y2jPIlZyBOD",
        "colab": {
          "base_uri": "https://localhost:8080/",
          "height": 295
        },
        "outputId": "a50ea50b-141b-4e85-fa57-5b4e02b4ca1a"
      },
      "outputs": [
        {
          "output_type": "display_data",
          "data": {
            "text/plain": [
              "<Figure size 432x288 with 1 Axes>"
            ],
            "image/png": "[encoded data removed]"
          },
          "metadata": {
            "needs_background": "light"
          }
        }
      ],
      "source": [
        "# summarize history for loss\n",
        "plt.plot(history.history['loss'])\n",
        "plt.plot(history.history['val_loss'])\n",
        "plt.title('model loss')\n",
        "plt.ylabel('loss')\n",
        "plt.xlabel('epoch')\n",
        "plt.legend(['train', 'test'], loc='upper left')\n",
        "plt.show()"
      ]
    },
    {
      "cell_type": "markdown",
      "metadata": {
        "id": "bGOABvyO1gvT"
      },
      "source": [
        "## Mejoras\n",
        "\n",
        "- Data Augmentation\n",
        "\n",
        "- Activación RELU entre capas de la arquitectura (Revisar arquitectura)\n",
        "\n"
      ]
    }
  ],
  "metadata": {
    "colab": {
      "provenance": [],
      "include_colab_link": true
    },
    "kernelspec": {
      "display_name": "Python 3",
      "name": "python3"
    },
    "language_info": {
      "name": "python"
    }
  },
  "nbformat": 4,
  "nbformat_minor": 0
}