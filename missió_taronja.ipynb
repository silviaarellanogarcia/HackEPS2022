{
  "nbformat": 4,
  "nbformat_minor": 0,
  "metadata": {
    "colab": {
      "provenance": [],
      "include_colab_link": true
    },
    "kernelspec": {
      "name": "python3",
      "display_name": "Python 3"
    },
    "language_info": {
      "name": "python"
    }
  },
  "cells": [
    {
      "cell_type": "markdown",
      "metadata": {
        "id": "view-in-github",
        "colab_type": "text"
      },
      "source": [
        "<a href=\"https://colab.research.google.com/github/silviaarellanogarcia/HackEPS2022/blob/main/missi%C3%B3_taronja.ipynb\" target=\"_parent\"><img src=\"https://colab.research.google.com/assets/colab-badge.svg\" alt=\"Open In Colab\"/></a>"
      ]
    },
    {
      "cell_type": "markdown",
      "source": [
        "# 🍑 MISSIÓ TARONJA 🍑"
      ],
      "metadata": {
        "id": "V-1I9JtIKoQA"
      }
    },
    {
      "cell_type": "markdown",
      "source": [
        "## Objectius \n",
        "\n",
        "Volem que implementeu un model o algoritme que permeti classificar del dataset A2 si aquella imatge hi ha error o no. Ens agradaria que mostressiu alguna gràfica de l'entrenament del model (en cas de fer ML) o mètriques qualitatives ( accuracy, recall, f1...) i quantitatives (matrius de confusió, ROC curve...)."
      ],
      "metadata": {
        "id": "5wmrPRpEpqSF"
      }
    },
    {
      "cell_type": "markdown",
      "source": [
        "# Setup\n",
        "\n",
        "Install libraries"
      ],
      "metadata": {
        "id": "0Xwi9crOS0wN"
      }
    },
    {
      "cell_type": "code",
      "execution_count": 1,
      "metadata": {
        "id": "9ex2tFaMpirc"
      },
      "outputs": [],
      "source": [
        "import pandas as pd\n",
        "import numpy as np"
      ]
    },
    {
      "cell_type": "markdown",
      "source": [
        "Mount drive volume into google colab"
      ],
      "metadata": {
        "id": "peAhSelMS2DW"
      }
    },
    {
      "cell_type": "code",
      "source": [
        "from google.colab import drive\n",
        "drive.mount('/content/gdrive')"
      ],
      "metadata": {
        "colab": {
          "base_uri": "https://localhost:8080/"
        },
        "id": "tW8QkKKEeepN",
        "outputId": "a0810cc1-ea26-45d5-e520-b73cd8f5f815"
      },
      "execution_count": 2,
      "outputs": [
        {
          "output_type": "stream",
          "name": "stdout",
          "text": [
            "Drive already mounted at /content/gdrive; to attempt to forcibly remount, call drive.mount(\"/content/gdrive\", force_remount=True).\n"
          ]
        }
      ]
    },
    {
      "cell_type": "markdown",
      "source": [
        "## Extreure les dades"
      ],
      "metadata": {
        "id": "e2_1p2qfeh2l"
      }
    },
    {
      "cell_type": "markdown",
      "source": [
        "Unziped all images and information to our drive"
      ],
      "metadata": {
        "id": "3bsfrSsQTA3s"
      }
    },
    {
      "cell_type": "code",
      "source": [
        "#!unzip \"gdrive/MyDrive/HackEPS2022/data/A2.zip\" -d \"gdrive/MyDrive/HackEPS2022/data/taronja\""
      ],
      "metadata": {
        "id": "qWQyOcq0ehLC"
      },
      "execution_count": 3,
      "outputs": []
    },
    {
      "cell_type": "markdown",
      "source": [
        "Loading all information into a dataframe"
      ],
      "metadata": {
        "id": "xZnfBOtfTB4N"
      }
    },
    {
      "cell_type": "code",
      "source": [
        "train_df = pd.read_csv(\"gdrive/MyDrive/HackEPS2022/data/taronja/A2/train-hackeps.csv\")\n",
        "train_df.shape"
      ],
      "metadata": {
        "colab": {
          "base_uri": "https://localhost:8080/"
        },
        "id": "t6HD7V94fDPv",
        "outputId": "a2846111-3fac-41bd-d523-dc997baf0a87"
      },
      "execution_count": 4,
      "outputs": [
        {
          "output_type": "execute_result",
          "data": {
            "text/plain": [
              "(700, 10)"
            ]
          },
          "metadata": {},
          "execution_count": 4
        }
      ]
    },
    {
      "cell_type": "markdown",
      "source": [
        "##Preprocessing"
      ],
      "metadata": {
        "id": "1LPIsgU_gEp9"
      }
    },
    {
      "cell_type": "code",
      "source": [
        "train_df.info()"
      ],
      "metadata": {
        "colab": {
          "base_uri": "https://localhost:8080/"
        },
        "id": "ooOYENLIgDOb",
        "outputId": "94c2b296-9609-4e04-95ae-5d68f58cd9d5"
      },
      "execution_count": 5,
      "outputs": [
        {
          "output_type": "stream",
          "name": "stdout",
          "text": [
            "<class 'pandas.core.frame.DataFrame'>\n",
            "RangeIndex: 700 entries, 0 to 699\n",
            "Data columns (total 10 columns):\n",
            " #   Column                                Non-Null Count  Dtype \n",
            "---  ------                                --------------  ----- \n",
            " 0   Unnamed: 0                            700 non-null    int64 \n",
            " 1   Unnamed: 0.1                          700 non-null    int64 \n",
            " 2   name                                  700 non-null    object\n",
            " 3   path                                  700 non-null    object\n",
            " 4   Irregularidades puntuales o agujeros  700 non-null    int64 \n",
            " 5   Marcas verticales o carreras.         700 non-null    int64 \n",
            " 6   Marcas horizontales o barrados        700 non-null    int64 \n",
            " 7   Irregularidad del tejido.             700 non-null    int64 \n",
            " 8   Mancha                                700 non-null    int64 \n",
            " 9   Franja de color                       700 non-null    int64 \n",
            "dtypes: int64(8), object(2)\n",
            "memory usage: 54.8+ KB\n"
          ]
        }
      ]
    },
    {
      "cell_type": "code",
      "source": [
        "train_df.head(15)"
      ],
      "metadata": {
        "colab": {
          "base_uri": "https://localhost:8080/",
          "height": 598
        },
        "id": "POYqQ2vNgJtQ",
        "outputId": "0bf4f2dd-b0f9-45cc-d551-065f67aefc11"
      },
      "execution_count": 6,
      "outputs": [
        {
          "output_type": "execute_result",
          "data": {
            "text/plain": [
              "    Unnamed: 0  Unnamed: 0.1       name  \\\n",
              "0          736            37  c1r1e2n50   \n",
              "1          535            36  c2r3e1n16   \n",
              "2          607             8   c2r2e3n3   \n",
              "3            1             1   c2r3e0n9   \n",
              "4          588            39  c1r3e1n36   \n",
              "5          674            25  c1r1e3n12   \n",
              "6          168            20  c1r1e0n50   \n",
              "7          103             4  c1r1e1n36   \n",
              "8          173            25  c1r1e0n48   \n",
              "9          155             6  c1r1e0n23   \n",
              "10         441            42  c2r2e1n40   \n",
              "11          45            45  c2r3e0n20   \n",
              "12         425            26  c2r2e1n14   \n",
              "13         437            38  c2r2e1n38   \n",
              "14          94            44   c2r3e2n3   \n",
              "\n",
              "                                             path  \\\n",
              "0   badata/cd1/data/c1/r1/images/e2/c1r1e2n50.tif   \n",
              "1   badata/cd1/data/c2/r3/images/e1/c2r3e1n16.tif   \n",
              "2    badata/cd1/data/c2/r2/images/e3/c2r2e3n3.tif   \n",
              "3    badata/cd1/data/c2/r3/images/e0/c2r3e0n9.tif   \n",
              "4   badata/cd1/data/c1/r3/images/e1/c1r3e1n36.tif   \n",
              "5   badata/cd1/data/c1/r1/images/e3/c1r1e3n12.tif   \n",
              "6   badata/cd1/data/c1/r1/images/e0/c1r1e0n50.tif   \n",
              "7   badata/cd1/data/c1/r1/images/e1/c1r1e1n36.tif   \n",
              "8   badata/cd1/data/c1/r1/images/e0/c1r1e0n48.tif   \n",
              "9   badata/cd1/data/c1/r1/images/e0/c1r1e0n23.tif   \n",
              "10  badata/cd1/data/c2/r2/images/e1/c2r2e1n40.tif   \n",
              "11  badata/cd1/data/c2/r3/images/e0/c2r3e0n20.tif   \n",
              "12  badata/cd1/data/c2/r2/images/e1/c2r2e1n14.tif   \n",
              "13  badata/cd1/data/c2/r2/images/e1/c2r2e1n38.tif   \n",
              "14   badata/cd1/data/c2/r3/images/e2/c2r3e2n3.tif   \n",
              "\n",
              "    Irregularidades puntuales o agujeros  Marcas verticales o carreras.  \\\n",
              "0                                      0                              0   \n",
              "1                                      1                              0   \n",
              "2                                      0                              1   \n",
              "3                                      0                              0   \n",
              "4                                      1                              0   \n",
              "5                                      1                              1   \n",
              "6                                      0                              0   \n",
              "7                                      1                              0   \n",
              "8                                      0                              0   \n",
              "9                                      0                              0   \n",
              "10                                     1                              0   \n",
              "11                                     0                              0   \n",
              "12                                     1                              0   \n",
              "13                                     1                              0   \n",
              "14                                     0                              0   \n",
              "\n",
              "    Marcas horizontales o barrados  Irregularidad del tejido.  Mancha  \\\n",
              "0                                0                          0       1   \n",
              "1                                0                          0       0   \n",
              "2                                1                          0       0   \n",
              "3                                0                          1       0   \n",
              "4                                0                          0       0   \n",
              "5                                0                          0       0   \n",
              "6                                0                          0       0   \n",
              "7                                0                          0       0   \n",
              "8                                0                          0       0   \n",
              "9                                0                          0       0   \n",
              "10                               0                          0       0   \n",
              "11                               0                          1       0   \n",
              "12                               0                          0       0   \n",
              "13                               0                          0       0   \n",
              "14                               0                          0       1   \n",
              "\n",
              "    Franja de color  \n",
              "0                 0  \n",
              "1                 0  \n",
              "2                 0  \n",
              "3                 0  \n",
              "4                 0  \n",
              "5                 0  \n",
              "6                 0  \n",
              "7                 0  \n",
              "8                 0  \n",
              "9                 0  \n",
              "10                0  \n",
              "11                0  \n",
              "12                0  \n",
              "13                0  \n",
              "14                0  "
            ],
            "text/html": [
              "\n",
              "  <div id=\"df-08898186-5843-4249-a1b6-f39e90c39872\">\n",
              "    <div class=\"colab-df-container\">\n",
              "      <div>\n",
              "<style scoped>\n",
              "    .dataframe tbody tr th:only-of-type {\n",
              "        vertical-align: middle;\n",
              "    }\n",
              "\n",
              "    .dataframe tbody tr th {\n",
              "        vertical-align: top;\n",
              "    }\n",
              "\n",
              "    .dataframe thead th {\n",
              "        text-align: right;\n",
              "    }\n",
              "</style>\n",
              "<table border=\"1\" class=\"dataframe\">\n",
              "  <thead>\n",
              "    <tr style=\"text-align: right;\">\n",
              "      <th></th>\n",
              "      <th>Unnamed: 0</th>\n",
              "      <th>Unnamed: 0.1</th>\n",
              "      <th>name</th>\n",
              "      <th>path</th>\n",
              "      <th>Irregularidades puntuales o agujeros</th>\n",
              "      <th>Marcas verticales o carreras.</th>\n",
              "      <th>Marcas horizontales o barrados</th>\n",
              "      <th>Irregularidad del tejido.</th>\n",
              "      <th>Mancha</th>\n",
              "      <th>Franja de color</th>\n",
              "    </tr>\n",
              "  </thead>\n",
              "  <tbody>\n",
              "    <tr>\n",
              "      <th>0</th>\n",
              "      <td>736</td>\n",
              "      <td>37</td>\n",
              "      <td>c1r1e2n50</td>\n",
              "      <td>badata/cd1/data/c1/r1/images/e2/c1r1e2n50.tif</td>\n",
              "      <td>0</td>\n",
              "      <td>0</td>\n",
              "      <td>0</td>\n",
              "      <td>0</td>\n",
              "      <td>1</td>\n",
              "      <td>0</td>\n",
              "    </tr>\n",
              "    <tr>\n",
              "      <th>1</th>\n",
              "      <td>535</td>\n",
              "      <td>36</td>\n",
              "      <td>c2r3e1n16</td>\n",
              "      <td>badata/cd1/data/c2/r3/images/e1/c2r3e1n16.tif</td>\n",
              "      <td>1</td>\n",
              "      <td>0</td>\n",
              "      <td>0</td>\n",
              "      <td>0</td>\n",
              "      <td>0</td>\n",
              "      <td>0</td>\n",
              "    </tr>\n",
              "    <tr>\n",
              "      <th>2</th>\n",
              "      <td>607</td>\n",
              "      <td>8</td>\n",
              "      <td>c2r2e3n3</td>\n",
              "      <td>badata/cd1/data/c2/r2/images/e3/c2r2e3n3.tif</td>\n",
              "      <td>0</td>\n",
              "      <td>1</td>\n",
              "      <td>1</td>\n",
              "      <td>0</td>\n",
              "      <td>0</td>\n",
              "      <td>0</td>\n",
              "    </tr>\n",
              "    <tr>\n",
              "      <th>3</th>\n",
              "      <td>1</td>\n",
              "      <td>1</td>\n",
              "      <td>c2r3e0n9</td>\n",
              "      <td>badata/cd1/data/c2/r3/images/e0/c2r3e0n9.tif</td>\n",
              "      <td>0</td>\n",
              "      <td>0</td>\n",
              "      <td>0</td>\n",
              "      <td>1</td>\n",
              "      <td>0</td>\n",
              "      <td>0</td>\n",
              "    </tr>\n",
              "    <tr>\n",
              "      <th>4</th>\n",
              "      <td>588</td>\n",
              "      <td>39</td>\n",
              "      <td>c1r3e1n36</td>\n",
              "      <td>badata/cd1/data/c1/r3/images/e1/c1r3e1n36.tif</td>\n",
              "      <td>1</td>\n",
              "      <td>0</td>\n",
              "      <td>0</td>\n",
              "      <td>0</td>\n",
              "      <td>0</td>\n",
              "      <td>0</td>\n",
              "    </tr>\n",
              "    <tr>\n",
              "      <th>5</th>\n",
              "      <td>674</td>\n",
              "      <td>25</td>\n",
              "      <td>c1r1e3n12</td>\n",
              "      <td>badata/cd1/data/c1/r1/images/e3/c1r1e3n12.tif</td>\n",
              "      <td>1</td>\n",
              "      <td>1</td>\n",
              "      <td>0</td>\n",
              "      <td>0</td>\n",
              "      <td>0</td>\n",
              "      <td>0</td>\n",
              "    </tr>\n",
              "    <tr>\n",
              "      <th>6</th>\n",
              "      <td>168</td>\n",
              "      <td>20</td>\n",
              "      <td>c1r1e0n50</td>\n",
              "      <td>badata/cd1/data/c1/r1/images/e0/c1r1e0n50.tif</td>\n",
              "      <td>0</td>\n",
              "      <td>0</td>\n",
              "      <td>0</td>\n",
              "      <td>0</td>\n",
              "      <td>0</td>\n",
              "      <td>0</td>\n",
              "    </tr>\n",
              "    <tr>\n",
              "      <th>7</th>\n",
              "      <td>103</td>\n",
              "      <td>4</td>\n",
              "      <td>c1r1e1n36</td>\n",
              "      <td>badata/cd1/data/c1/r1/images/e1/c1r1e1n36.tif</td>\n",
              "      <td>1</td>\n",
              "      <td>0</td>\n",
              "      <td>0</td>\n",
              "      <td>0</td>\n",
              "      <td>0</td>\n",
              "      <td>0</td>\n",
              "    </tr>\n",
              "    <tr>\n",
              "      <th>8</th>\n",
              "      <td>173</td>\n",
              "      <td>25</td>\n",
              "      <td>c1r1e0n48</td>\n",
              "      <td>badata/cd1/data/c1/r1/images/e0/c1r1e0n48.tif</td>\n",
              "      <td>0</td>\n",
              "      <td>0</td>\n",
              "      <td>0</td>\n",
              "      <td>0</td>\n",
              "      <td>0</td>\n",
              "      <td>0</td>\n",
              "    </tr>\n",
              "    <tr>\n",
              "      <th>9</th>\n",
              "      <td>155</td>\n",
              "      <td>6</td>\n",
              "      <td>c1r1e0n23</td>\n",
              "      <td>badata/cd1/data/c1/r1/images/e0/c1r1e0n23.tif</td>\n",
              "      <td>0</td>\n",
              "      <td>0</td>\n",
              "      <td>0</td>\n",
              "      <td>0</td>\n",
              "      <td>0</td>\n",
              "      <td>0</td>\n",
              "    </tr>\n",
              "    <tr>\n",
              "      <th>10</th>\n",
              "      <td>441</td>\n",
              "      <td>42</td>\n",
              "      <td>c2r2e1n40</td>\n",
              "      <td>badata/cd1/data/c2/r2/images/e1/c2r2e1n40.tif</td>\n",
              "      <td>1</td>\n",
              "      <td>0</td>\n",
              "      <td>0</td>\n",
              "      <td>0</td>\n",
              "      <td>0</td>\n",
              "      <td>0</td>\n",
              "    </tr>\n",
              "    <tr>\n",
              "      <th>11</th>\n",
              "      <td>45</td>\n",
              "      <td>45</td>\n",
              "      <td>c2r3e0n20</td>\n",
              "      <td>badata/cd1/data/c2/r3/images/e0/c2r3e0n20.tif</td>\n",
              "      <td>0</td>\n",
              "      <td>0</td>\n",
              "      <td>0</td>\n",
              "      <td>1</td>\n",
              "      <td>0</td>\n",
              "      <td>0</td>\n",
              "    </tr>\n",
              "    <tr>\n",
              "      <th>12</th>\n",
              "      <td>425</td>\n",
              "      <td>26</td>\n",
              "      <td>c2r2e1n14</td>\n",
              "      <td>badata/cd1/data/c2/r2/images/e1/c2r2e1n14.tif</td>\n",
              "      <td>1</td>\n",
              "      <td>0</td>\n",
              "      <td>0</td>\n",
              "      <td>0</td>\n",
              "      <td>0</td>\n",
              "      <td>0</td>\n",
              "    </tr>\n",
              "    <tr>\n",
              "      <th>13</th>\n",
              "      <td>437</td>\n",
              "      <td>38</td>\n",
              "      <td>c2r2e1n38</td>\n",
              "      <td>badata/cd1/data/c2/r2/images/e1/c2r2e1n38.tif</td>\n",
              "      <td>1</td>\n",
              "      <td>0</td>\n",
              "      <td>0</td>\n",
              "      <td>0</td>\n",
              "      <td>0</td>\n",
              "      <td>0</td>\n",
              "    </tr>\n",
              "    <tr>\n",
              "      <th>14</th>\n",
              "      <td>94</td>\n",
              "      <td>44</td>\n",
              "      <td>c2r3e2n3</td>\n",
              "      <td>badata/cd1/data/c2/r3/images/e2/c2r3e2n3.tif</td>\n",
              "      <td>0</td>\n",
              "      <td>0</td>\n",
              "      <td>0</td>\n",
              "      <td>0</td>\n",
              "      <td>1</td>\n",
              "      <td>0</td>\n",
              "    </tr>\n",
              "  </tbody>\n",
              "</table>\n",
              "</div>\n",
              "      <button class=\"colab-df-convert\" onclick=\"convertToInteractive('df-08898186-5843-4249-a1b6-f39e90c39872')\"\n",
              "              title=\"Convert this dataframe to an interactive table.\"\n",
              "              style=\"display:none;\">\n",
              "        \n",
              "  <svg xmlns=\"http://www.w3.org/2000/svg\" height=\"24px\"viewBox=\"0 0 24 24\"\n",
              "       width=\"24px\">\n",
              "    <path d=\"M0 0h24v24H0V0z\" fill=\"none\"/>\n",
              "    <path d=\"M18.56 5.44l.94 2.06.94-2.06 2.06-.94-2.06-.94-.94-2.06-.94 2.06-2.06.94zm-11 1L8.5 8.5l.94-2.06 2.06-.94-2.06-.94L8.5 2.5l-.94 2.06-2.06.94zm10 10l.94 2.06.94-2.06 2.06-.94-2.06-.94-.94-2.06-.94 2.06-2.06.94z\"/><path d=\"M17.41 7.96l-1.37-1.37c-.4-.4-.92-.59-1.43-.59-.52 0-1.04.2-1.43.59L10.3 9.45l-7.72 7.72c-.78.78-.78 2.05 0 2.83L4 21.41c.39.39.9.59 1.41.59.51 0 1.02-.2 1.41-.59l7.78-7.78 2.81-2.81c.8-.78.8-2.07 0-2.86zM5.41 20L4 18.59l7.72-7.72 1.47 1.35L5.41 20z\"/>\n",
              "  </svg>\n",
              "      </button>\n",
              "      \n",
              "  <style>\n",
              "    .colab-df-container {\n",
              "      display:flex;\n",
              "      flex-wrap:wrap;\n",
              "      gap: 12px;\n",
              "    }\n",
              "\n",
              "    .colab-df-convert {\n",
              "      background-color: #E8F0FE;\n",
              "      border: none;\n",
              "      border-radius: 50%;\n",
              "      cursor: pointer;\n",
              "      display: none;\n",
              "      fill: #1967D2;\n",
              "      height: 32px;\n",
              "      padding: 0 0 0 0;\n",
              "      width: 32px;\n",
              "    }\n",
              "\n",
              "    .colab-df-convert:hover {\n",
              "      background-color: #E2EBFA;\n",
              "      box-shadow: 0px 1px 2px rgba(60, 64, 67, 0.3), 0px 1px 3px 1px rgba(60, 64, 67, 0.15);\n",
              "      fill: #174EA6;\n",
              "    }\n",
              "\n",
              "    [theme=dark] .colab-df-convert {\n",
              "      background-color: #3B4455;\n",
              "      fill: #D2E3FC;\n",
              "    }\n",
              "\n",
              "    [theme=dark] .colab-df-convert:hover {\n",
              "      background-color: #434B5C;\n",
              "      box-shadow: 0px 1px 3px 1px rgba(0, 0, 0, 0.15);\n",
              "      filter: drop-shadow(0px 1px 2px rgba(0, 0, 0, 0.3));\n",
              "      fill: #FFFFFF;\n",
              "    }\n",
              "  </style>\n",
              "\n",
              "      <script>\n",
              "        const buttonEl =\n",
              "          document.querySelector('#df-08898186-5843-4249-a1b6-f39e90c39872 button.colab-df-convert');\n",
              "        buttonEl.style.display =\n",
              "          google.colab.kernel.accessAllowed ? 'block' : 'none';\n",
              "\n",
              "        async function convertToInteractive(key) {\n",
              "          const element = document.querySelector('#df-08898186-5843-4249-a1b6-f39e90c39872');\n",
              "          const dataTable =\n",
              "            await google.colab.kernel.invokeFunction('convertToInteractive',\n",
              "                                                     [key], {});\n",
              "          if (!dataTable) return;\n",
              "\n",
              "          const docLinkHtml = 'Like what you see? Visit the ' +\n",
              "            '<a target=\"_blank\" href=https://colab.research.google.com/notebooks/data_table.ipynb>data table notebook</a>'\n",
              "            + ' to learn more about interactive tables.';\n",
              "          element.innerHTML = '';\n",
              "          dataTable['output_type'] = 'display_data';\n",
              "          await google.colab.output.renderOutput(dataTable, element);\n",
              "          const docLink = document.createElement('div');\n",
              "          docLink.innerHTML = docLinkHtml;\n",
              "          element.appendChild(docLink);\n",
              "        }\n",
              "      </script>\n",
              "    </div>\n",
              "  </div>\n",
              "  "
            ]
          },
          "metadata": {},
          "execution_count": 6
        }
      ]
    },
    {
      "cell_type": "code",
      "source": [
        "train_df.columns"
      ],
      "metadata": {
        "colab": {
          "base_uri": "https://localhost:8080/"
        },
        "id": "YqUzoLOzhau5",
        "outputId": "83d066fc-d223-4f52-af2a-4c64ef4aa573"
      },
      "execution_count": 7,
      "outputs": [
        {
          "output_type": "execute_result",
          "data": {
            "text/plain": [
              "Index(['Unnamed: 0', 'Unnamed: 0.1', 'name', 'path',\n",
              "       'Irregularidades puntuales o agujeros', 'Marcas verticales o carreras.',\n",
              "       'Marcas horizontales o barrados', 'Irregularidad del tejido.', 'Mancha',\n",
              "       'Franja de color'],\n",
              "      dtype='object')"
            ]
          },
          "metadata": {},
          "execution_count": 7
        }
      ]
    },
    {
      "cell_type": "markdown",
      "source": [
        "Getting number of errors of each image with a sum from all errors"
      ],
      "metadata": {
        "id": "f9e3B9ZJTI7F"
      }
    },
    {
      "cell_type": "code",
      "source": [
        "train_df[\"error\"] = train_df['Irregularidades puntuales o agujeros'] + train_df['Marcas verticales o carreras.'] + train_df['Marcas horizontales o barrados'] + train_df['Irregularidad del tejido.'] + train_df['Mancha'] + train_df['Franja de color']"
      ],
      "metadata": {
        "id": "Gdb4R46Qgp2I"
      },
      "execution_count": 8,
      "outputs": []
    },
    {
      "cell_type": "markdown",
      "source": [
        "Only want the image path and the number of errors"
      ],
      "metadata": {
        "id": "espAKjGkTSFT"
      }
    },
    {
      "cell_type": "code",
      "source": [
        "train_df = train_df[[\"path\", \"error\"]]\n"
      ],
      "metadata": {
        "id": "qgqxmPdXjS10"
      },
      "execution_count": 9,
      "outputs": []
    },
    {
      "cell_type": "code",
      "source": [
        "train_df.head()"
      ],
      "metadata": {
        "colab": {
          "base_uri": "https://localhost:8080/",
          "height": 206
        },
        "id": "l5sJQzUMjeZY",
        "outputId": "d350f54d-df5c-4261-b8be-349fcb7248d8"
      },
      "execution_count": 10,
      "outputs": [
        {
          "output_type": "execute_result",
          "data": {
            "text/plain": [
              "                                            path  error\n",
              "0  badata/cd1/data/c1/r1/images/e2/c1r1e2n50.tif      1\n",
              "1  badata/cd1/data/c2/r3/images/e1/c2r3e1n16.tif      1\n",
              "2   badata/cd1/data/c2/r2/images/e3/c2r2e3n3.tif      2\n",
              "3   badata/cd1/data/c2/r3/images/e0/c2r3e0n9.tif      1\n",
              "4  badata/cd1/data/c1/r3/images/e1/c1r3e1n36.tif      1"
            ],
            "text/html": [
              "\n",
              "  <div id=\"df-90092f7e-24c6-4744-910a-8067618cd603\">\n",
              "    <div class=\"colab-df-container\">\n",
              "      <div>\n",
              "<style scoped>\n",
              "    .dataframe tbody tr th:only-of-type {\n",
              "        vertical-align: middle;\n",
              "    }\n",
              "\n",
              "    .dataframe tbody tr th {\n",
              "        vertical-align: top;\n",
              "    }\n",
              "\n",
              "    .dataframe thead th {\n",
              "        text-align: right;\n",
              "    }\n",
              "</style>\n",
              "<table border=\"1\" class=\"dataframe\">\n",
              "  <thead>\n",
              "    <tr style=\"text-align: right;\">\n",
              "      <th></th>\n",
              "      <th>path</th>\n",
              "      <th>error</th>\n",
              "    </tr>\n",
              "  </thead>\n",
              "  <tbody>\n",
              "    <tr>\n",
              "      <th>0</th>\n",
              "      <td>badata/cd1/data/c1/r1/images/e2/c1r1e2n50.tif</td>\n",
              "      <td>1</td>\n",
              "    </tr>\n",
              "    <tr>\n",
              "      <th>1</th>\n",
              "      <td>badata/cd1/data/c2/r3/images/e1/c2r3e1n16.tif</td>\n",
              "      <td>1</td>\n",
              "    </tr>\n",
              "    <tr>\n",
              "      <th>2</th>\n",
              "      <td>badata/cd1/data/c2/r2/images/e3/c2r2e3n3.tif</td>\n",
              "      <td>2</td>\n",
              "    </tr>\n",
              "    <tr>\n",
              "      <th>3</th>\n",
              "      <td>badata/cd1/data/c2/r3/images/e0/c2r3e0n9.tif</td>\n",
              "      <td>1</td>\n",
              "    </tr>\n",
              "    <tr>\n",
              "      <th>4</th>\n",
              "      <td>badata/cd1/data/c1/r3/images/e1/c1r3e1n36.tif</td>\n",
              "      <td>1</td>\n",
              "    </tr>\n",
              "  </tbody>\n",
              "</table>\n",
              "</div>\n",
              "      <button class=\"colab-df-convert\" onclick=\"convertToInteractive('df-90092f7e-24c6-4744-910a-8067618cd603')\"\n",
              "              title=\"Convert this dataframe to an interactive table.\"\n",
              "              style=\"display:none;\">\n",
              "        \n",
              "  <svg xmlns=\"http://www.w3.org/2000/svg\" height=\"24px\"viewBox=\"0 0 24 24\"\n",
              "       width=\"24px\">\n",
              "    <path d=\"M0 0h24v24H0V0z\" fill=\"none\"/>\n",
              "    <path d=\"M18.56 5.44l.94 2.06.94-2.06 2.06-.94-2.06-.94-.94-2.06-.94 2.06-2.06.94zm-11 1L8.5 8.5l.94-2.06 2.06-.94-2.06-.94L8.5 2.5l-.94 2.06-2.06.94zm10 10l.94 2.06.94-2.06 2.06-.94-2.06-.94-.94-2.06-.94 2.06-2.06.94z\"/><path d=\"M17.41 7.96l-1.37-1.37c-.4-.4-.92-.59-1.43-.59-.52 0-1.04.2-1.43.59L10.3 9.45l-7.72 7.72c-.78.78-.78 2.05 0 2.83L4 21.41c.39.39.9.59 1.41.59.51 0 1.02-.2 1.41-.59l7.78-7.78 2.81-2.81c.8-.78.8-2.07 0-2.86zM5.41 20L4 18.59l7.72-7.72 1.47 1.35L5.41 20z\"/>\n",
              "  </svg>\n",
              "      </button>\n",
              "      \n",
              "  <style>\n",
              "    .colab-df-container {\n",
              "      display:flex;\n",
              "      flex-wrap:wrap;\n",
              "      gap: 12px;\n",
              "    }\n",
              "\n",
              "    .colab-df-convert {\n",
              "      background-color: #E8F0FE;\n",
              "      border: none;\n",
              "      border-radius: 50%;\n",
              "      cursor: pointer;\n",
              "      display: none;\n",
              "      fill: #1967D2;\n",
              "      height: 32px;\n",
              "      padding: 0 0 0 0;\n",
              "      width: 32px;\n",
              "    }\n",
              "\n",
              "    .colab-df-convert:hover {\n",
              "      background-color: #E2EBFA;\n",
              "      box-shadow: 0px 1px 2px rgba(60, 64, 67, 0.3), 0px 1px 3px 1px rgba(60, 64, 67, 0.15);\n",
              "      fill: #174EA6;\n",
              "    }\n",
              "\n",
              "    [theme=dark] .colab-df-convert {\n",
              "      background-color: #3B4455;\n",
              "      fill: #D2E3FC;\n",
              "    }\n",
              "\n",
              "    [theme=dark] .colab-df-convert:hover {\n",
              "      background-color: #434B5C;\n",
              "      box-shadow: 0px 1px 3px 1px rgba(0, 0, 0, 0.15);\n",
              "      filter: drop-shadow(0px 1px 2px rgba(0, 0, 0, 0.3));\n",
              "      fill: #FFFFFF;\n",
              "    }\n",
              "  </style>\n",
              "\n",
              "      <script>\n",
              "        const buttonEl =\n",
              "          document.querySelector('#df-90092f7e-24c6-4744-910a-8067618cd603 button.colab-df-convert');\n",
              "        buttonEl.style.display =\n",
              "          google.colab.kernel.accessAllowed ? 'block' : 'none';\n",
              "\n",
              "        async function convertToInteractive(key) {\n",
              "          const element = document.querySelector('#df-90092f7e-24c6-4744-910a-8067618cd603');\n",
              "          const dataTable =\n",
              "            await google.colab.kernel.invokeFunction('convertToInteractive',\n",
              "                                                     [key], {});\n",
              "          if (!dataTable) return;\n",
              "\n",
              "          const docLinkHtml = 'Like what you see? Visit the ' +\n",
              "            '<a target=\"_blank\" href=https://colab.research.google.com/notebooks/data_table.ipynb>data table notebook</a>'\n",
              "            + ' to learn more about interactive tables.';\n",
              "          element.innerHTML = '';\n",
              "          dataTable['output_type'] = 'display_data';\n",
              "          await google.colab.output.renderOutput(dataTable, element);\n",
              "          const docLink = document.createElement('div');\n",
              "          docLink.innerHTML = docLinkHtml;\n",
              "          element.appendChild(docLink);\n",
              "        }\n",
              "      </script>\n",
              "    </div>\n",
              "  </div>\n",
              "  "
            ]
          },
          "metadata": {},
          "execution_count": 10
        }
      ]
    },
    {
      "cell_type": "markdown",
      "source": [
        "Translating number of errors to has some error"
      ],
      "metadata": {
        "id": "bi7idwbiTeP9"
      }
    },
    {
      "cell_type": "code",
      "source": [
        "train_df[\"error\"] = train_df[\"error\"].map(lambda x: 1 if x > 0 else 0)"
      ],
      "metadata": {
        "id": "p4OvSX9sj1_C"
      },
      "execution_count": 11,
      "outputs": []
    },
    {
      "cell_type": "code",
      "source": [
        "train_df.error.value_counts()"
      ],
      "metadata": {
        "colab": {
          "base_uri": "https://localhost:8080/"
        },
        "id": "09bTUdYakcMj",
        "outputId": "40d41776-cd04-454e-af86-d6e04060a87b"
      },
      "execution_count": 12,
      "outputs": [
        {
          "output_type": "execute_result",
          "data": {
            "text/plain": [
              "1    550\n",
              "0    150\n",
              "Name: error, dtype: int64"
            ]
          },
          "metadata": {},
          "execution_count": 12
        }
      ]
    },
    {
      "cell_type": "markdown",
      "source": [
        "## Model preprocessing"
      ],
      "metadata": {
        "id": "Av41oP6dlSwl"
      }
    },
    {
      "cell_type": "code",
      "source": [
        "import cv2, os\n"
      ],
      "metadata": {
        "id": "yX-O9A9qqyRq"
      },
      "execution_count": 13,
      "outputs": []
    },
    {
      "cell_type": "markdown",
      "source": [
        "As this dataset is not that big, we did this without a generator\n",
        "\n",
        "\n"
      ],
      "metadata": {
        "id": "LE2WVtwOTwOk"
      }
    },
    {
      "cell_type": "code",
      "source": [
        "img_size = 224\n",
        "images = []\n",
        "for index, row in train_df.iterrows(): \n",
        "    path = row.path\n",
        "    path = path.replace(\"badata/cd1/data/\", \"gdrive/MyDrive/HackEPS2022/data/taronja/A2/\")\n",
        "    try:\n",
        "        img_arr = cv2.imread(path)\n",
        "        resized_arr = cv2.resize(img_arr, (img_size, img_size)) # Reshaping images to preferred size\n",
        "        images.append([resized_arr, row.error])\n",
        "    except Exception as e:\n",
        "        print(e)"
      ],
      "metadata": {
        "colab": {
          "base_uri": "https://localhost:8080/"
        },
        "id": "Lc4O4BsclYCt",
        "outputId": "42c3c8b5-8c16-4e24-eb9f-0f125ba2ec63"
      },
      "execution_count": 19,
      "outputs": [
        {
          "output_type": "stream",
          "name": "stdout",
          "text": [
            "OpenCV(4.6.0) /io/opencv/modules/imgproc/src/resize.cpp:4052: error: (-215:Assertion failed) !ssize.empty() in function 'resize'\n",
            "\n",
            "OpenCV(4.6.0) /io/opencv/modules/imgproc/src/resize.cpp:4052: error: (-215:Assertion failed) !ssize.empty() in function 'resize'\n",
            "\n",
            "OpenCV(4.6.0) /io/opencv/modules/imgproc/src/resize.cpp:4052: error: (-215:Assertion failed) !ssize.empty() in function 'resize'\n",
            "\n",
            "OpenCV(4.6.0) /io/opencv/modules/imgproc/src/resize.cpp:4052: error: (-215:Assertion failed) !ssize.empty() in function 'resize'\n",
            "\n"
          ]
        }
      ]
    },
    {
      "cell_type": "markdown",
      "source": [
        "Extracting the image (x_train) and the labels (y_train) from the dataset"
      ],
      "metadata": {
        "id": "Nd9CXqIBUK_P"
      }
    },
    {
      "cell_type": "code",
      "source": [
        "x_train = []\n",
        "y_train = []\n",
        "\n",
        "for feature, label in images:\n",
        "  x_train.append(feature)\n",
        "  y_train.append(label)\n",
        "\n",
        "\n",
        "x_train = np.array(x_train)\n",
        "y_train = np.array(y_train)\n",
        "\n"
      ],
      "metadata": {
        "id": "dXcVJllYsEEw"
      },
      "execution_count": 21,
      "outputs": []
    },
    {
      "cell_type": "markdown",
      "source": [
        "## Modeling"
      ],
      "metadata": {
        "id": "iqTibjF-tHaj"
      }
    },
    {
      "cell_type": "code",
      "source": [
        "import keras\n",
        "from keras.models import Sequential\n",
        "from keras.layers import Dense, Conv2D , MaxPool2D , Flatten , Dropout \n",
        "from keras.preprocessing.image import ImageDataGenerator\n",
        "from keras.optimizers import Adam\n",
        "\n",
        "from sklearn.metrics import classification_report,confusion_matrix\n",
        "\n",
        "import tensorflow as tf"
      ],
      "metadata": {
        "id": "U3p2ToTGtCoS"
      },
      "execution_count": 22,
      "outputs": []
    },
    {
      "cell_type": "code",
      "source": [
        "model = tf.keras.models.Sequential([\n",
        "    # Note the input shape is the desired size of the image 200x200 with 3 bytes color\n",
        "    # This is the first convolution\n",
        "    tf.keras.layers.Conv2D(16, (3,3), activation='relu', input_shape=(224, 224, 3)),\n",
        "    tf.keras.layers.MaxPooling2D(2, 2),\n",
        "    # The second convolution\n",
        "    tf.keras.layers.Conv2D(32, (3,3), activation='relu'),\n",
        "    tf.keras.layers.MaxPooling2D(2,2),\n",
        "    # The third convolution\n",
        "    tf.keras.layers.Conv2D(64, (3,3), activation='relu'),\n",
        "    tf.keras.layers.MaxPooling2D(2,2),\n",
        "    # The fourth convolution\n",
        "    tf.keras.layers.Conv2D(64, (3,3), activation='relu'),\n",
        "    tf.keras.layers.MaxPooling2D(2,2),\n",
        "    # # The fifth convolution\n",
        "    tf.keras.layers.Conv2D(64, (3,3), activation='relu'),\n",
        "    tf.keras.layers.MaxPooling2D(2,2),\n",
        "    # Flatten the results to feed into a DNN\n",
        "    tf.keras.layers.Flatten(),\n",
        "    # 512 neuron hidden layer\n",
        "    tf.keras.layers.Dense(512, activation='relu'),\n",
        "    # Only 1 output neuron. It will contain a value from 0-1 where 0 for 1 class ('error') and 1 for the other ('no error')\n",
        "    tf.keras.layers.Dense(2, activation='sigmoid')\n",
        "])"
      ],
      "metadata": {
        "id": "a5u-rcAFtKky"
      },
      "execution_count": 34,
      "outputs": []
    },
    {
      "cell_type": "code",
      "source": [
        "opt = Adam(lr=0.000001)\n",
        "model.compile(optimizer = opt , loss = tf.keras.losses.SparseCategoricalCrossentropy(from_logits=True) , metrics = ['accuracy'])"
      ],
      "metadata": {
        "id": "r8CT8zk0tQ_d",
        "colab": {
          "base_uri": "https://localhost:8080/"
        },
        "outputId": "6a8b1aeb-7e27-4245-c6ac-e5fcb05e931e"
      },
      "execution_count": 35,
      "outputs": [
        {
          "output_type": "stream",
          "name": "stderr",
          "text": [
            "/usr/local/lib/python3.7/dist-packages/keras/optimizers/optimizer_v2/adam.py:110: UserWarning: The `lr` argument is deprecated, use `learning_rate` instead.\n",
            "  super(Adam, self).__init__(name, **kwargs)\n"
          ]
        }
      ]
    },
    {
      "cell_type": "markdown",
      "source": [
        "# Training the model"
      ],
      "metadata": {
        "id": "yESfscz0UZur"
      }
    },
    {
      "cell_type": "code",
      "source": [
        "history = model.fit(x_train, y_train, epochs=30, validation_split=0.1, batch_size=64, shuffle=True)"
      ],
      "metadata": {
        "colab": {
          "base_uri": "https://localhost:8080/"
        },
        "id": "90cx0oZstXyV",
        "outputId": "736e0b4b-05e5-4a1f-ae51-78370a10ad76"
      },
      "execution_count": 36,
      "outputs": [
        {
          "output_type": "stream",
          "name": "stdout",
          "text": [
            "Epoch 1/30\n"
          ]
        },
        {
          "output_type": "stream",
          "name": "stderr",
          "text": [
            "/usr/local/lib/python3.7/dist-packages/tensorflow/python/util/dispatch.py:1082: UserWarning: \"`sparse_categorical_crossentropy` received `from_logits=True`, but the `output` argument was produced by a sigmoid or softmax activation and thus does not represent logits. Was this intended?\"\n",
            "  return dispatch_target(*args, **kwargs)\n"
          ]
        },
        {
          "output_type": "stream",
          "name": "stdout",
          "text": [
            "10/10 [==============================] - 32s 3s/step - loss: 0.5558 - accuracy: 0.7843 - val_loss: 0.6847 - val_accuracy: 0.7000\n",
            "Epoch 2/30\n",
            "10/10 [==============================] - 32s 3s/step - loss: 0.5341 - accuracy: 0.7875 - val_loss: 0.6285 - val_accuracy: 0.7286\n",
            "Epoch 3/30\n",
            "10/10 [==============================] - 30s 3s/step - loss: 0.5242 - accuracy: 0.7923 - val_loss: 0.6361 - val_accuracy: 0.7000\n",
            "Epoch 4/30\n",
            "10/10 [==============================] - 30s 3s/step - loss: 0.5148 - accuracy: 0.7875 - val_loss: 0.6220 - val_accuracy: 0.7000\n",
            "Epoch 5/30\n",
            "10/10 [==============================] - 30s 3s/step - loss: 0.5080 - accuracy: 0.7843 - val_loss: 0.5998 - val_accuracy: 0.7000\n",
            "Epoch 6/30\n",
            "10/10 [==============================] - 34s 3s/step - loss: 0.5025 - accuracy: 0.7859 - val_loss: 0.5995 - val_accuracy: 0.7000\n",
            "Epoch 7/30\n",
            "10/10 [==============================] - 32s 3s/step - loss: 0.4979 - accuracy: 0.7859 - val_loss: 0.6006 - val_accuracy: 0.7000\n",
            "Epoch 8/30\n",
            "10/10 [==============================] - 34s 3s/step - loss: 0.4974 - accuracy: 0.7827 - val_loss: 0.5803 - val_accuracy: 0.6857\n",
            "Epoch 9/30\n",
            "10/10 [==============================] - 37s 4s/step - loss: 0.4920 - accuracy: 0.7843 - val_loss: 0.5925 - val_accuracy: 0.7000\n",
            "Epoch 10/30\n",
            "10/10 [==============================] - 34s 3s/step - loss: 0.4902 - accuracy: 0.7907 - val_loss: 0.5752 - val_accuracy: 0.7000\n",
            "Epoch 11/30\n",
            "10/10 [==============================] - 31s 3s/step - loss: 0.4889 - accuracy: 0.7843 - val_loss: 0.5721 - val_accuracy: 0.7000\n",
            "Epoch 12/30\n",
            "10/10 [==============================] - 33s 3s/step - loss: 0.4917 - accuracy: 0.7875 - val_loss: 0.5654 - val_accuracy: 0.7000\n",
            "Epoch 13/30\n",
            "10/10 [==============================] - 33s 3s/step - loss: 0.4828 - accuracy: 0.7875 - val_loss: 0.5677 - val_accuracy: 0.7000\n",
            "Epoch 14/30\n",
            "10/10 [==============================] - 36s 4s/step - loss: 0.4816 - accuracy: 0.7875 - val_loss: 0.5666 - val_accuracy: 0.7000\n",
            "Epoch 15/30\n",
            "10/10 [==============================] - 32s 3s/step - loss: 0.4795 - accuracy: 0.7859 - val_loss: 0.5633 - val_accuracy: 0.7000\n",
            "Epoch 16/30\n",
            "10/10 [==============================] - 31s 3s/step - loss: 0.4780 - accuracy: 0.7891 - val_loss: 0.5670 - val_accuracy: 0.7000\n",
            "Epoch 17/30\n",
            "10/10 [==============================] - 34s 3s/step - loss: 0.4766 - accuracy: 0.7875 - val_loss: 0.5729 - val_accuracy: 0.7000\n",
            "Epoch 18/30\n",
            "10/10 [==============================] - 36s 4s/step - loss: 0.4763 - accuracy: 0.7923 - val_loss: 0.5663 - val_accuracy: 0.7000\n",
            "Epoch 19/30\n",
            "10/10 [==============================] - 31s 3s/step - loss: 0.4750 - accuracy: 0.7907 - val_loss: 0.5695 - val_accuracy: 0.7000\n",
            "Epoch 20/30\n",
            "10/10 [==============================] - 30s 3s/step - loss: 0.4739 - accuracy: 0.7891 - val_loss: 0.5674 - val_accuracy: 0.7000\n",
            "Epoch 21/30\n",
            "10/10 [==============================] - 30s 3s/step - loss: 0.4740 - accuracy: 0.7907 - val_loss: 0.5577 - val_accuracy: 0.7000\n",
            "Epoch 22/30\n",
            "10/10 [==============================] - 31s 3s/step - loss: 0.4748 - accuracy: 0.7907 - val_loss: 0.5598 - val_accuracy: 0.7000\n",
            "Epoch 23/30\n",
            "10/10 [==============================] - 30s 3s/step - loss: 0.4707 - accuracy: 0.7939 - val_loss: 0.5548 - val_accuracy: 0.7000\n",
            "Epoch 24/30\n",
            "10/10 [==============================] - 30s 3s/step - loss: 0.4691 - accuracy: 0.7955 - val_loss: 0.5708 - val_accuracy: 0.7000\n",
            "Epoch 25/30\n",
            "10/10 [==============================] - 30s 3s/step - loss: 0.4672 - accuracy: 0.7907 - val_loss: 0.5503 - val_accuracy: 0.7000\n",
            "Epoch 26/30\n",
            "10/10 [==============================] - 30s 3s/step - loss: 0.4687 - accuracy: 0.7907 - val_loss: 0.5551 - val_accuracy: 0.7000\n",
            "Epoch 27/30\n",
            "10/10 [==============================] - 30s 3s/step - loss: 0.4713 - accuracy: 0.7923 - val_loss: 0.5553 - val_accuracy: 0.7000\n",
            "Epoch 28/30\n",
            "10/10 [==============================] - 30s 3s/step - loss: 0.4669 - accuracy: 0.7907 - val_loss: 0.5599 - val_accuracy: 0.7000\n",
            "Epoch 29/30\n",
            "10/10 [==============================] - 30s 3s/step - loss: 0.4644 - accuracy: 0.7891 - val_loss: 0.5567 - val_accuracy: 0.7000\n",
            "Epoch 30/30\n",
            "10/10 [==============================] - 30s 3s/step - loss: 0.4689 - accuracy: 0.7955 - val_loss: 0.5493 - val_accuracy: 0.7143\n"
          ]
        }
      ]
    },
    {
      "cell_type": "markdown",
      "source": [
        "Guardant el model al drive"
      ],
      "metadata": {
        "id": "W_47lD9kR36Q"
      }
    },
    {
      "cell_type": "code",
      "source": [
        "model.save_weights('gdrive/MyDrive/HackEPS2022/taronja.pth')"
      ],
      "metadata": {
        "id": "404_dNbjPovd"
      },
      "execution_count": 37,
      "outputs": []
    },
    {
      "cell_type": "markdown",
      "source": [
        "# Generant grafics"
      ],
      "metadata": {
        "id": "U6NbGzwcR9iP"
      }
    },
    {
      "cell_type": "code",
      "source": [
        "import matplotlib.pyplot as plt"
      ],
      "metadata": {
        "id": "j_r6YL4VyXre"
      },
      "execution_count": 38,
      "outputs": []
    },
    {
      "cell_type": "code",
      "source": [
        "# list all data in history\n",
        "print(history.history.keys())\n",
        "# summarize history for accuracy\n",
        "plt.plot(history.history['accuracy'])\n",
        "plt.plot(history.history['val_accuracy'])\n",
        "plt.title('model accuracy')\n",
        "plt.ylabel('accuracy')\n",
        "plt.xlabel('epoch')\n",
        "plt.legend(['train', 'test'], loc='upper left')\n",
        "plt.show()\n"
      ],
      "metadata": {
        "colab": {
          "base_uri": "https://localhost:8080/",
          "height": 313
        },
        "id": "SdHlMy3hx_ix",
        "outputId": "dc3520b4-6833-44f7-a341-ef17c19db84e"
      },
      "execution_count": 39,
      "outputs": [
        {
          "output_type": "stream",
          "name": "stdout",
          "text": [
            "dict_keys(['loss', 'accuracy', 'val_loss', 'val_accuracy'])\n"
          ]
        },
        {
          "output_type": "display_data",
          "data": {
            "text/plain": [
              "<Figure size 432x288 with 1 Axes>"
            ],
            "image/png": "[encoded data removed]"
          },
          "metadata": {
            "needs_background": "light"
          }
        }
      ]
    },
    {
      "cell_type": "code",
      "source": [
        "# summarize history for loss\n",
        "plt.plot(history.history['loss'])\n",
        "plt.plot(history.history['val_loss'])\n",
        "plt.title('model loss')\n",
        "plt.ylabel('loss')\n",
        "plt.xlabel('epoch')\n",
        "plt.legend(['train', 'test'], loc='upper left')\n",
        "plt.show()"
      ],
      "metadata": {
        "colab": {
          "base_uri": "https://localhost:8080/",
          "height": 295
        },
        "id": "_y2jPIlZyBOD",
        "outputId": "17c853e7-f3bb-4633-c51e-707914556f13"
      },
      "execution_count": 40,
      "outputs": [
        {
          "output_type": "display_data",
          "data": {
            "text/plain": [
              "<Figure size 432x288 with 1 Axes>"
            ],
            "image/png": "[encoded data removed]"
          },
          "metadata": {
            "needs_background": "light"
          }
        }
      ]
    },
    {
      "cell_type": "markdown",
      "source": [
        "L'accuracy no es un bon indicador en aquest cas ja que les etiquetes estan molt desbalançejades."
      ],
      "metadata": {
        "id": "K60PjnFg-dEo"
      }
    },
    {
      "cell_type": "code",
      "source": [
        "# Confussion matrix\n",
        "# con_mat = tf.math.confusion_matrix(labels=y_true, predictions=y_pred).numpy()\n",
        "# con_mat_norm = np.around(con_mat.astype('float') / con_mat.sum(axis=1)[:, np.newaxis], decimals=2)\n",
        "\n",
        "# con_mat_df = pd.DataFrame(con_mat_norm,\n",
        "#                      index = classes, \n",
        "#                      columns = classes)\n",
        "\n",
        "# figure = plt.figure(figsize=(8, 8))\n",
        "# sns.heatmap(con_mat_df, annot=True,cmap=plt.cm.Blues)\n",
        "# plt.tight_layout()\n",
        "# plt.ylabel('True label')\n",
        "# plt.xlabel('Predicted label')\n",
        "# plt.show()"
      ],
      "metadata": {
        "id": "A8RyPodG3uiE"
      },
      "execution_count": null,
      "outputs": []
    }
  ]
}